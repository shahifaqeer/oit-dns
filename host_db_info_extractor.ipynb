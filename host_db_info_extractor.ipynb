{
 "cells": [
  {
   "cell_type": "markdown",
   "metadata": {},
   "source": [
    "# Python function for extracting info from host db file "
   ]
  },
  {
   "cell_type": "code",
   "execution_count": 21,
   "metadata": {
    "collapsed": false
   },
   "outputs": [],
   "source": [
    "#!!!!!! IMPORTANT !!!!!! \n",
    "# NEVER UPLOAD \"EXTERN.DB\" FILE TO GITHUB!\n",
    "def get_hostdb_info_by_ip(ip_addr_str):  \n",
    "    \n",
    "    # Dictionary to return\n",
    "    #    host_info['entry_type_str']\n",
    "    #    host_info['hostname_str']\n",
    "    #    host_info['system_type_str']\n",
    "    #    host_info['os_type_str']\n",
    "    #    host_info['subnet_str']\n",
    "    #    host_info['interface_type_str']\n",
    "    \n",
    "    # Note that if entry with \"ip_addr_str\" is not found, \n",
    "    # this function will still return a dictionary, but without keys defined.\n",
    "    # Caller should check the existence of a key w/ \".has_key()\" function before using.\n",
    "    # One key check will do, e.g.: \"if host_info.has_key('entry_type_str') is True:\"\n",
    "    host_info = {}\n",
    "\n",
    "    # Open hostdb file\n",
    "    fd = open('./EXTERN.DB','r')\n",
    "    lines_list = fd.readlines()\n",
    "    fd.close()\n",
    "\n",
    "    # Traverse lines\n",
    "    for l in lines_list:\n",
    "        # We only care about HOST and HOST-DYNAMIC entries\n",
    "        if l.startswith('HOST;') or l.startswith('HOST-DYNAMIC;'):\n",
    "            split_list = l.split(';')\n",
    "\n",
    "            # If found, count will be more than 0. \n",
    "            if split_list.count(ip_addr_str) > 0: # found it\n",
    "\n",
    "                # Extract info\n",
    "                host_info['entry_type_str'] = split_list[0].lower()\n",
    "                host_info['hostname_str'] = split_list[1].lower() \n",
    "                host_info['system_type_str'] = split_list[5].lower() \n",
    "                host_info['os_type_str'] = split_list[6].lower()\n",
    "                host_info['subnet_str'] = split_list[(split_list.index(ip_addr_str) - 1)]\n",
    "                host_info['interface_type_str'] = split_list[(split_list.index(ip_addr_str) - 2)]\n",
    "\n",
    "            else:   # for code readability\n",
    "                continue\n",
    "\n",
    "        else:   # for code readability\n",
    "            continue\n",
    "\n",
    "    # print host_info            \n",
    "\n",
    "    # Return map\n",
    "    return host_info"
   ]
  },
  {
   "cell_type": "code",
   "execution_count": 28,
   "metadata": {
    "collapsed": true
   },
   "outputs": [],
   "source": [
    "def convert_host_db_to_csv(lines_list, ipaddrs_list):  \n",
    "    \n",
    "    # 'entry_type_str'\n",
    "    # 'hostname_str'\n",
    "    # 'system_type_str'\n",
    "    # 'os_type_str'\n",
    "    # 'subnet_str'\n",
    "    # 'interface_type_str'\n",
    "    \n",
    "    csv_all = \"\"\n",
    "    \n",
    "    for ip_addr_str in ipaddrs_list:\n",
    "        value_list = []\n",
    "        csv_line = \"\"\n",
    "        \n",
    "        # Traverse lines\n",
    "        for l in lines_list:\n",
    "            # We only care about HOST and HOST-DYNAMIC entries\n",
    "            if l.startswith('HOST;') or l.startswith('HOST-DYNAMIC;'):\n",
    "                split_list = l.split(';')\n",
    "                \n",
    "                # If found, count will be more than 0. \n",
    "                if split_list.count(ip_addr_str) > 0: # found it\n",
    "                    \n",
    "                    # Extract info\n",
    "                    entry_type_str = split_list[0].lower()\n",
    "                    hostname_str = split_list[1].lower() \n",
    "                    system_type_str = split_list[5].lower() \n",
    "                    os_type_str = split_list[6].lower()\n",
    "                    subnet_str = split_list[(split_list.index(ip_addr_str) - 1)]\n",
    "                    interface_type_str = split_list[(split_list.index(ip_addr_str) - 2)]\n",
    "                    \n",
    "                    value_list = [ip_addr_str,entry_type_str,hostname_str,system_type_str,os_type_str,subnet_str,interface_type_str]\n",
    "                    \n",
    "                    # compose csv line \n",
    "                    csv_line = ','.join(value_list)\n",
    "                    \n",
    "                else:   # for code readability\n",
    "                    continue\n",
    "\n",
    "            else:   # for code readability\n",
    "                continue\n",
    "                \n",
    "        # add line\n",
    "        if csv_line!=\"\":\n",
    "            csv_all += csv_line + \"\\n\"\n",
    "     \n",
    "    # Save CSV file\n",
    "    fd = open('./hostdb.csv','wr')\n",
    "    fd.write(csv_all)\n",
    "    fd.close()\n",
    "    print \"Saved file as: hostdb.csv\""
   ]
  },
  {
   "cell_type": "markdown",
   "metadata": {},
   "source": [
    "# Testing function"
   ]
  },
  {
   "cell_type": "code",
   "execution_count": 29,
   "metadata": {
    "collapsed": false
   },
   "outputs": [
    {
     "data": {
      "text/plain": [
       "{}"
      ]
     },
     "execution_count": 29,
     "metadata": {},
     "output_type": "execute_result"
    }
   ],
   "source": [
    "get_hostdb_info_by_ip(\"PUT IP ADDRESS STRING\")"
   ]
  },
  {
   "cell_type": "code",
   "execution_count": 30,
   "metadata": {
    "collapsed": false
   },
   "outputs": [
    {
     "name": "stdout",
     "output_type": "stream",
     "text": [
      "Saved file as: hostdb.csv\n"
     ]
    }
   ],
   "source": [
    "# Open hostdb file\n",
    "fd = open('./EXTERN.DB','r')\n",
    "lines_list = fd.readlines()\n",
    "fd.close()\n",
    "\n",
    "ipaddrs_list = ['172.20.32.13','128.112.228.26'] \n",
    "\n",
    "convert_host_db_to_csv(lines_list,ipaddrs_list)"
   ]
  },
  {
   "cell_type": "code",
   "execution_count": null,
   "metadata": {
    "collapsed": true
   },
   "outputs": [],
   "source": []
  },
  {
   "cell_type": "code",
   "execution_count": null,
   "metadata": {
    "collapsed": true
   },
   "outputs": [],
   "source": []
  }
 ],
 "metadata": {
  "kernelspec": {
   "display_name": "Python 2",
   "language": "python",
   "name": "python2"
  },
  "language_info": {
   "codemirror_mode": {
    "name": "ipython",
    "version": 2
   },
   "file_extension": ".py",
   "mimetype": "text/x-python",
   "name": "python",
   "nbconvert_exporter": "python",
   "pygments_lexer": "ipython2",
   "version": "2.7.13"
  }
 },
 "nbformat": 4,
 "nbformat_minor": 2
}
