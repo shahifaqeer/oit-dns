{
 "cells": [
  {
   "cell_type": "code",
   "execution_count": 1,
   "metadata": {
    "collapsed": false
   },
   "outputs": [],
   "source": [
    "from __future__ import print_function\n",
    "\n",
    "# $example on$\n",
    "from pyspark.ml.feature import StringIndexer\n",
    "from pyspark import SparkContext\n",
    "from pyspark.sql import SQLContext\n",
    "\n",
    "\n",
    "sql_sc = SQLContext(sc)"
   ]
  },
  {
   "cell_type": "code",
   "execution_count": 2,
   "metadata": {
    "collapsed": false
   },
   "outputs": [],
   "source": [
    "# First start the analysis for a sample 1 hour data, we can easily expand this to multiple hours. \n",
    "fname = '/tigress/arpitg/dns_data/tshark_20170207_20170212_consolidated/split_hour_00118_20170211215900.csv'\n",
    "#fname = 'data/tshark_20170207_20170212_consolidated/split_hour_00118_20170211215900.csv'\n",
    "\n",
    "dns_data = []\n",
    "with open(fname, 'r') as f:\n",
    "    for line in f:\n",
    "        tmp = line.split('\\n')[0].split(',')\n",
    "        dns_data.append(tuple(tmp))"
   ]
  },
  {
   "cell_type": "code",
   "execution_count": 3,
   "metadata": {
    "collapsed": false
   },
   "outputs": [
    {
     "name": "stdout",
     "output_type": "stream",
     "text": [
      "[('1486868340.890438000', '0.001918000', '10.9.245.26', '10.8.0.5', 'api.smoot.apple.com', '0x00000001', '', 'vapornet100', 'host-dynamic', 'nat-oitwireless-inside-vapornet100-d-30235', '', '', ''), ('1486868340.891983000', '0.003463000', '10.8.241.29', '10.8.0.5', 'r20---sn-hgn7zn7e.googlevideo.com', '0x00000001', 'a4:02:b9:7e:a0:48', 'vapornet100', 'host-dynamic', 'nat-oitwireless-inside-vapornet100-b-28947', '', '', 'IntelCor')] 1707513\n"
     ]
    }
   ],
   "source": [
    "print (dns_data[:2],len(dns_data))"
   ]
  },
  {
   "cell_type": "code",
   "execution_count": null,
   "metadata": {
    "collapsed": false
   },
   "outputs": [],
   "source": [
    "dns_data_df = sql_sc.createDataFrame(dns_data,[\"ts\", \"xx\", \"srcIP\", \"dstIP\", \"qname\", \"qtype\", \"macAddr\", \"subnet\", \n",
    "                                               \"host_type\", \"host_name\", \"system_type\", \"OS\", \"nic_manuf\"])\n",
    "dns_data_df.count()"
   ]
  },
  {
   "cell_type": "code",
   "execution_count": null,
   "metadata": {
    "collapsed": false
   },
   "outputs": [],
   "source": [
    "# Apply basic filters\n",
    "filtered_dns_data_df = (dns_data_df\n",
    "                       .filter(dns_data_df[\"qname\"]!='<Unknown extended label>')\n",
    "                       .filter(dns_data_df[\"system_type\"] != 'virtual-machine')\n",
    "                       .filter(dns_data_df[\"system_type\"] != 'dec-pc')\n",
    "                       .filter(dns_data_df[\"system_type\"] != 'other-pc')   \n",
    "                       .filter(dns_data_df[\"system_type\"] != 'dell-pc')\n",
    "                       #.filter(dns_data_df[\"nic_manuf\"] != 'Apple') \n",
    "              )\n",
    "filtered_dns_data_df.show()\n",
    "filtered_dns_data_df.count()"
   ]
  },
  {
   "cell_type": "code",
   "execution_count": null,
   "metadata": {
    "collapsed": true
   },
   "outputs": [],
   "source": []
  },
  {
   "cell_type": "code",
   "execution_count": 124,
   "metadata": {
    "collapsed": false
   },
   "outputs": [],
   "source": [
    "# Create a feature dataframe with one row for each unique IP addresses\n",
    "ip_feature_df = (filtered_dns_data_df \n",
    "                 .select(filtered_dns_data_df.srcIP, filtered_dns_data_df.nic_manuf)\n",
    "                 .distinct()\n",
    "                )"
   ]
  },
  {
   "cell_type": "code",
   "execution_count": 131,
   "metadata": {
    "collapsed": false
   },
   "outputs": [
    {
     "name": "stdout",
     "output_type": "stream",
     "text": [
      "+------------+---------+------------------+---------------------+---------------------+---------------------+-------------------+--------------------+--------------------+------------------+\n",
      "|       srcIP|nic_manuf|unique_qname_count|unique_qname_l1_count|unique_qname_l2_count|unique_qname_l3_count|unique_dstIPs_count|  qname_most_popular| qname_least_popular|dstIP_most_popular|\n",
      "+------------+---------+------------------+---------------------+---------------------+---------------------+-------------------+--------------------+--------------------+------------------+\n",
      "|10.8.110.155|    Apple|                11|                    4|                    5|                    7|                  1|_aaplcache1._tcp....|p02-ckdatabase.fe...|          10.8.0.5|\n",
      "| 10.8.118.41|         |                14|                    2|                    8|                   14|                  1|     plus.google.com|time-ios.g.aaplim...|          10.8.0.5|\n",
      "|10.8.127.157|         |               103|                   11|                   50|                   85|                  2|secureclick-media...|init-p01st.push.a...|          10.8.0.5|\n",
      "|10.8.136.148|    Apple|                 5|                    2|                    4|                    5|                  1|  time-ios.apple.com|api-glb-nyc.smoot...|          10.8.0.5|\n",
      "| 10.8.136.23|         |                 7|                    2|                    5|                    7|                  4|api-global.netfli...|tpc.googlesyndica...|          10.8.0.5|\n",
      "|10.8.139.208|         |                28|                    2|                   11|                   19|                  1| powerup.groupme.com|e2013.e9.akamaied...|          10.8.0.5|\n",
      "|  10.8.146.6|         |                20|                    2|                   12|                   19|                  2|  graph.facebook.com|android.clients.g...|          10.8.0.5|\n",
      "|10.8.153.167|    Apple|                48|                    2|                   13|                   37|                  2|cl3.apple.com.edg...|e673.e9.akamaiedg...|          10.8.0.5|\n",
      "| 10.8.157.11|    Apple|                19|                    3|                   10|                   18|                  1|   e.crashlytics.com|           u.scdn.co|          10.8.0.5|\n",
      "|10.8.174.209|         |                38|                    2|                   19|                   29|                  1|  mesu.g.aaplimg.com|      imap.gmail.com|          10.8.0.5|\n",
      "|10.8.196.223|    Apple|                 7|                    3|                    3|                    3|                  2|ash2-accesspoint-...|db._dns-sd._udp.0...|          10.8.0.5|\n",
      "|10.8.203.125|    Apple|                37|                    2|                   11|                   28|                  2|e7121.g.akamaiedg...|init-p01st.push.a...|          10.8.0.5|\n",
      "| 10.8.21.219|    Apple|               117|                    4|                   39|                   79|                  1|e6858.dsce9.akama...|  mesu.g.aaplimg.com|          10.8.0.5|\n",
      "|10.8.217.229|    Apple|                93|                    3|                   34|                   72|                  2|scontent-lga3-1.x...|      app.adjust.com|          10.8.0.5|\n",
      "|10.8.229.118|         |                 6|                    2|                    5|                    6|                  1|  time-ios.apple.com| su.itunes.apple.com|          10.8.0.5|\n",
      "|  10.8.23.39|         |               130|                    8|                   52|                  121|                  2|outlook.office365...|r20---sn-ab5l6nsd...|          10.8.0.5|\n",
      "|10.8.231.188| SonyMobi|                13|                    3|                    7|                   13|                  2|android.clients.g...|api.weather.yande...|          10.8.0.5|\n",
      "|  10.8.3.185|    Apple|                76|                    5|                   17|                   61|                  2|p13-ckdatabase.fe...|init-p01st.push.a...|          10.8.0.5|\n",
      "|  10.8.38.79|         |                16|                    4|                    7|                   12|                  2|lb._dns-sd._udp.p...|1.courier-sandbox...|          10.8.0.5|\n",
      "| 10.8.63.150|    Apple|                49|                    3|                   25|                   41|                  2|p11-keyvalueservi...|init-p01st.push.a...|          10.8.0.5|\n",
      "+------------+---------+------------------+---------------------+---------------------+---------------------+-------------------+--------------------+--------------------+------------------+\n",
      "only showing top 20 rows\n",
      "\n"
     ]
    }
   ],
   "source": [
    "# TODO make these counts bounded by some window interval\n",
    "\n",
    "# Unique domain counts\n",
    "ip_2_unique_qname = (filtered_dns_data_df \n",
    "                     .select(filtered_dns_data_df.srcIP, filtered_dns_data_df.qname)\n",
    "                     .distinct()\n",
    "                     .groupBy('srcIP')\n",
    "                     .count()\n",
    "                     .withColumnRenamed('count', 'unique_qname_count')\n",
    "                    )\n",
    "\n",
    "ip_2_unique_qname_1l = (filtered_dns_data_df \n",
    "                        .select(filtered_dns_data_df.srcIP, filtered_dns_data_df.qname)\n",
    "                        .map(lambda p: (p.srcIP, \".\".join([str(x) for x in p.qname.encode('utf-8').strip().split('.')[-1:]])))\n",
    "                        .distinct()\n",
    "                        .toDF([\"srcIP\", \"qname\"])\n",
    "                        .groupBy(\"srcIP\")\n",
    "                        .count()\n",
    "                        .withColumnRenamed('count', 'unique_qname_l1_count')\n",
    "                    )\n",
    "\n",
    "ip_2_unique_qname_12 = (filtered_dns_data_df \n",
    "                        .select(filtered_dns_data_df.srcIP, filtered_dns_data_df.qname)\n",
    "                        .map(lambda p: (p.srcIP, \".\".join([str(x) for x in p.qname.encode('utf-8').strip().split('.')[-2:]])))\n",
    "                        .distinct()\n",
    "                        .toDF([\"srcIP\", \"qname\"])\n",
    "                        .groupBy(\"srcIP\")\n",
    "                        .count()\n",
    "                        .withColumnRenamed('count', 'unique_qname_l2_count')\n",
    "                    )\n",
    "\n",
    "ip_2_unique_qname_13 = (filtered_dns_data_df \n",
    "                        .select(filtered_dns_data_df.srcIP, filtered_dns_data_df.qname)\n",
    "                        .map(lambda p: (p.srcIP, \".\".join([str(x) for x in p.qname.encode('utf-8').strip().split('.')[-3:]])))\n",
    "                        .distinct()\n",
    "                        .toDF([\"srcIP\", \"qname\"])\n",
    "                        .groupBy(\"srcIP\")\n",
    "                        .count()\n",
    "                        .withColumnRenamed('count', 'unique_qname_l3_count')\n",
    "                    )\n",
    "\n",
    "# unique dstIPs count\n",
    "ip_2_unique_dstIPs = (filtered_dns_data_df \n",
    "                     .select(filtered_dns_data_df.srcIP, filtered_dns_data_df.dstIP)\n",
    "                     .distinct()\n",
    "                     .groupBy('srcIP')\n",
    "                     .count()\n",
    "                     .withColumnRenamed('count', 'unique_dstIPs_count')\n",
    "                    )\n",
    "\n",
    "# least and most popular qnames\n",
    "# unique dstIPs count\n",
    "from collections import defaultdict, Counter\n",
    "ip_2_most_pop_qname = (filtered_dns_data_df \n",
    "                       .select(filtered_dns_data_df.srcIP, filtered_dns_data_df.qname)\n",
    "                       .map(lambda p: ((p.srcIP, p.qname), 1))\n",
    "                       .reduceByKey(lambda x,y: x+y)\n",
    "                       .map(lambda p: (p[0][0], ((p[0][1]),p[1])))\n",
    "                       .groupByKey()\n",
    "                       #.map(lambda p: (p[0], list(p[1])))\n",
    "                       .map(lambda p: (p[0], Counter(dict((x,int(y)) for x,y in p[1])).most_common(1)))\n",
    "                       .map(lambda p: (p[0], p[1][0][0].encode('utf-8').strip()))\n",
    "                       .toDF([\"srcIP\", \"qname_most_popular\"])\n",
    "                      )\n",
    "\n",
    "ip_2_least_pop_qname = (filtered_dns_data_df \n",
    "                       .select(filtered_dns_data_df.srcIP, filtered_dns_data_df.qname)\n",
    "                       .map(lambda p: ((p.srcIP, p.qname), 1))\n",
    "                       .reduceByKey(lambda x,y: x+y)\n",
    "                       .map(lambda p: (p[0][0], ((p[0][1]),p[1])))\n",
    "                       .groupByKey()\n",
    "                       #.map(lambda p: (p[0], list(p[1])))\n",
    "                       .map(lambda p: (p[0], Counter(dict((x,int(y)) for x,y in p[1])).most_common()[-1]))\n",
    "                       .map(lambda p: (p[0], p[1][0].encode('utf-8').strip()))\n",
    "                       .toDF([\"srcIP\", \"qname_least_popular\"])\n",
    "                      )\n",
    "\n",
    "ip_2_most_pop_dstIP = (filtered_dns_data_df \n",
    "                       .select(filtered_dns_data_df.srcIP, filtered_dns_data_df.dstIP)\n",
    "                       .map(lambda p: ((p.srcIP, p.dstIP), 1))\n",
    "                       .reduceByKey(lambda x,y: x+y)\n",
    "                       .map(lambda p: (p[0][0], ((p[0][1]),p[1])))\n",
    "                       .groupByKey()\n",
    "                       #.map(lambda p: (p[0], list(p[1])))\n",
    "                       .map(lambda p: (p[0], Counter(dict((x,int(y)) for x,y in p[1])).most_common(1)))\n",
    "                       .map(lambda p: (p[0], p[1][0][0].encode('utf-8').strip()))\n",
    "                       .toDF([\"srcIP\", \"dstIP_most_popular\"])\n",
    "                      )\n",
    "\n",
    "\n",
    "\n",
    "ip_feature_df_updated = ip_feature_df.join(ip_2_unique_qname, 'srcIP')\n",
    "ip_feature_df_updated = ip_feature_df_updated.join(ip_2_unique_qname_1l, 'srcIP')\n",
    "ip_feature_df_updated = ip_feature_df_updated.join(ip_2_unique_qname_12, 'srcIP')\n",
    "ip_feature_df_updated = ip_feature_df_updated.join(ip_2_unique_qname_13, 'srcIP')\n",
    "ip_feature_df_updated = ip_feature_df_updated.join(ip_2_unique_dstIPs, 'srcIP')\n",
    "ip_feature_df_updated = ip_feature_df_updated.join(ip_2_most_pop_qname, 'srcIP')\n",
    "ip_feature_df_updated = ip_feature_df_updated.join(ip_2_least_pop_qname, 'srcIP')\n",
    "ip_feature_df_updated = ip_feature_df_updated.join(ip_2_most_pop_dstIP, 'srcIP')\n",
    "\n",
    "\n",
    "ip_feature_df_updated.show()     "
   ]
  },
  {
   "cell_type": "code",
   "execution_count": null,
   "metadata": {
    "collapsed": false
   },
   "outputs": [
    {
     "name": "stdout",
     "output_type": "stream",
     "text": [
      "root\n",
      " |-- srcIP: string (nullable = true)\n",
      " |-- nic_manuf: string (nullable = true)\n",
      " |-- unique_qname_count: long (nullable = false)\n",
      " |-- unique_qname_l1_count: long (nullable = false)\n",
      " |-- unique_qname_l2_count: long (nullable = false)\n",
      " |-- unique_qname_l3_count: long (nullable = false)\n",
      " |-- unique_dstIPs_count: long (nullable = false)\n",
      " |-- qname_most_popular: string (nullable = true)\n",
      " |-- qname_least_popular: string (nullable = true)\n",
      " |-- dstIP_most_popular: string (nullable = true)\n",
      "\n"
     ]
    },
    {
     "ename": "KeyboardInterrupt",
     "evalue": "",
     "output_type": "error",
     "traceback": [
      "\u001b[0;31m---------------------------------------------------------------------------\u001b[0m",
      "\u001b[0;31mKeyboardInterrupt\u001b[0m                         Traceback (most recent call last)",
      "\u001b[0;32m<ipython-input-133-70f453272dea>\u001b[0m in \u001b[0;36m<module>\u001b[0;34m()\u001b[0m\n\u001b[1;32m     12\u001b[0m \u001b[0mip_feature_df_indexed\u001b[0m \u001b[0;34m=\u001b[0m \u001b[0mindexer3\u001b[0m\u001b[0;34m.\u001b[0m\u001b[0mfit\u001b[0m\u001b[0;34m(\u001b[0m\u001b[0mip_feature_df_indexed\u001b[0m\u001b[0;34m)\u001b[0m\u001b[0;34m.\u001b[0m\u001b[0mtransform\u001b[0m\u001b[0;34m(\u001b[0m\u001b[0mip_feature_df_indexed\u001b[0m\u001b[0;34m)\u001b[0m\u001b[0;34m\u001b[0m\u001b[0m\n\u001b[1;32m     13\u001b[0m \u001b[0mip_feature_df_indexed\u001b[0m \u001b[0;34m=\u001b[0m \u001b[0mindexer4\u001b[0m\u001b[0;34m.\u001b[0m\u001b[0mfit\u001b[0m\u001b[0;34m(\u001b[0m\u001b[0mip_feature_df_indexed\u001b[0m\u001b[0;34m)\u001b[0m\u001b[0;34m.\u001b[0m\u001b[0mtransform\u001b[0m\u001b[0;34m(\u001b[0m\u001b[0mip_feature_df_indexed\u001b[0m\u001b[0;34m)\u001b[0m\u001b[0;34m\u001b[0m\u001b[0m\n\u001b[0;32m---> 14\u001b[0;31m \u001b[0mip_feature_df_indexed\u001b[0m\u001b[0;34m.\u001b[0m\u001b[0mshow\u001b[0m\u001b[0;34m(\u001b[0m\u001b[0;34m)\u001b[0m\u001b[0;34m\u001b[0m\u001b[0m\n\u001b[0m",
      "\u001b[0;32m/usr/licensed/spark/spark-1.5.2-bin-hadoop2.6/python/pyspark/sql/dataframe.py\u001b[0m in \u001b[0;36mshow\u001b[0;34m(self, n, truncate)\u001b[0m\n\u001b[1;32m    254\u001b[0m         \u001b[0;34m+\u001b[0m\u001b[0;34m-\u001b[0m\u001b[0;34m-\u001b[0m\u001b[0;34m-\u001b[0m\u001b[0;34m+\u001b[0m\u001b[0;34m-\u001b[0m\u001b[0;34m-\u001b[0m\u001b[0;34m-\u001b[0m\u001b[0;34m-\u001b[0m\u001b[0;34m-\u001b[0m\u001b[0;34m+\u001b[0m\u001b[0;34m\u001b[0m\u001b[0m\n\u001b[1;32m    255\u001b[0m         \"\"\"\n\u001b[0;32m--> 256\u001b[0;31m         \u001b[0;32mprint\u001b[0m\u001b[0;34m(\u001b[0m\u001b[0mself\u001b[0m\u001b[0;34m.\u001b[0m\u001b[0m_jdf\u001b[0m\u001b[0;34m.\u001b[0m\u001b[0mshowString\u001b[0m\u001b[0;34m(\u001b[0m\u001b[0mn\u001b[0m\u001b[0;34m,\u001b[0m \u001b[0mtruncate\u001b[0m\u001b[0;34m)\u001b[0m\u001b[0;34m)\u001b[0m\u001b[0;34m\u001b[0m\u001b[0m\n\u001b[0m\u001b[1;32m    257\u001b[0m \u001b[0;34m\u001b[0m\u001b[0m\n\u001b[1;32m    258\u001b[0m     \u001b[0;32mdef\u001b[0m \u001b[0m__repr__\u001b[0m\u001b[0;34m(\u001b[0m\u001b[0mself\u001b[0m\u001b[0;34m)\u001b[0m\u001b[0;34m:\u001b[0m\u001b[0;34m\u001b[0m\u001b[0m\n",
      "\u001b[0;32m/usr/licensed/spark/spark-1.5.2-bin-hadoop2.6/python/lib/py4j-0.8.2.1-src.zip/py4j/java_gateway.py\u001b[0m in \u001b[0;36m__call__\u001b[0;34m(self, *args)\u001b[0m\n\u001b[1;32m    534\u001b[0m             \u001b[0mEND_COMMAND_PART\u001b[0m\u001b[0;34m\u001b[0m\u001b[0m\n\u001b[1;32m    535\u001b[0m \u001b[0;34m\u001b[0m\u001b[0m\n\u001b[0;32m--> 536\u001b[0;31m         \u001b[0manswer\u001b[0m \u001b[0;34m=\u001b[0m \u001b[0mself\u001b[0m\u001b[0;34m.\u001b[0m\u001b[0mgateway_client\u001b[0m\u001b[0;34m.\u001b[0m\u001b[0msend_command\u001b[0m\u001b[0;34m(\u001b[0m\u001b[0mcommand\u001b[0m\u001b[0;34m)\u001b[0m\u001b[0;34m\u001b[0m\u001b[0m\n\u001b[0m\u001b[1;32m    537\u001b[0m         return_value = get_return_value(answer, self.gateway_client,\n\u001b[1;32m    538\u001b[0m                 self.target_id, self.name)\n",
      "\u001b[0;32m/usr/licensed/spark/spark-1.5.2-bin-hadoop2.6/python/lib/py4j-0.8.2.1-src.zip/py4j/java_gateway.py\u001b[0m in \u001b[0;36msend_command\u001b[0;34m(self, command, retry)\u001b[0m\n\u001b[1;32m    362\u001b[0m         \u001b[0mconnection\u001b[0m \u001b[0;34m=\u001b[0m \u001b[0mself\u001b[0m\u001b[0;34m.\u001b[0m\u001b[0m_get_connection\u001b[0m\u001b[0;34m(\u001b[0m\u001b[0;34m)\u001b[0m\u001b[0;34m\u001b[0m\u001b[0m\n\u001b[1;32m    363\u001b[0m         \u001b[0;32mtry\u001b[0m\u001b[0;34m:\u001b[0m\u001b[0;34m\u001b[0m\u001b[0m\n\u001b[0;32m--> 364\u001b[0;31m             \u001b[0mresponse\u001b[0m \u001b[0;34m=\u001b[0m \u001b[0mconnection\u001b[0m\u001b[0;34m.\u001b[0m\u001b[0msend_command\u001b[0m\u001b[0;34m(\u001b[0m\u001b[0mcommand\u001b[0m\u001b[0;34m)\u001b[0m\u001b[0;34m\u001b[0m\u001b[0m\n\u001b[0m\u001b[1;32m    365\u001b[0m             \u001b[0mself\u001b[0m\u001b[0;34m.\u001b[0m\u001b[0m_give_back_connection\u001b[0m\u001b[0;34m(\u001b[0m\u001b[0mconnection\u001b[0m\u001b[0;34m)\u001b[0m\u001b[0;34m\u001b[0m\u001b[0m\n\u001b[1;32m    366\u001b[0m         \u001b[0;32mexcept\u001b[0m \u001b[0mPy4JNetworkError\u001b[0m\u001b[0;34m:\u001b[0m\u001b[0;34m\u001b[0m\u001b[0m\n",
      "\u001b[0;32m/usr/licensed/spark/spark-1.5.2-bin-hadoop2.6/python/lib/py4j-0.8.2.1-src.zip/py4j/java_gateway.py\u001b[0m in \u001b[0;36msend_command\u001b[0;34m(self, command)\u001b[0m\n\u001b[1;32m    471\u001b[0m         \u001b[0;32mtry\u001b[0m\u001b[0;34m:\u001b[0m\u001b[0;34m\u001b[0m\u001b[0m\n\u001b[1;32m    472\u001b[0m             \u001b[0mself\u001b[0m\u001b[0;34m.\u001b[0m\u001b[0msocket\u001b[0m\u001b[0;34m.\u001b[0m\u001b[0msendall\u001b[0m\u001b[0;34m(\u001b[0m\u001b[0mcommand\u001b[0m\u001b[0;34m.\u001b[0m\u001b[0mencode\u001b[0m\u001b[0;34m(\u001b[0m\u001b[0;34m'utf-8'\u001b[0m\u001b[0;34m)\u001b[0m\u001b[0;34m)\u001b[0m\u001b[0;34m\u001b[0m\u001b[0m\n\u001b[0;32m--> 473\u001b[0;31m             \u001b[0manswer\u001b[0m \u001b[0;34m=\u001b[0m \u001b[0msmart_decode\u001b[0m\u001b[0;34m(\u001b[0m\u001b[0mself\u001b[0m\u001b[0;34m.\u001b[0m\u001b[0mstream\u001b[0m\u001b[0;34m.\u001b[0m\u001b[0mreadline\u001b[0m\u001b[0;34m(\u001b[0m\u001b[0;34m)\u001b[0m\u001b[0;34m[\u001b[0m\u001b[0;34m:\u001b[0m\u001b[0;34m-\u001b[0m\u001b[0;36m1\u001b[0m\u001b[0;34m]\u001b[0m\u001b[0;34m)\u001b[0m\u001b[0;34m\u001b[0m\u001b[0m\n\u001b[0m\u001b[1;32m    474\u001b[0m             \u001b[0mlogger\u001b[0m\u001b[0;34m.\u001b[0m\u001b[0mdebug\u001b[0m\u001b[0;34m(\u001b[0m\u001b[0;34m\"Answer received: {0}\"\u001b[0m\u001b[0;34m.\u001b[0m\u001b[0mformat\u001b[0m\u001b[0;34m(\u001b[0m\u001b[0manswer\u001b[0m\u001b[0;34m)\u001b[0m\u001b[0;34m)\u001b[0m\u001b[0;34m\u001b[0m\u001b[0m\n\u001b[1;32m    475\u001b[0m             \u001b[0;31m# Happens when a the other end is dead. There might be an empty\u001b[0m\u001b[0;34m\u001b[0m\u001b[0;34m\u001b[0m\u001b[0m\n",
      "\u001b[0;32m/usr/licensed/anaconda/4.3.0/lib/python2.7/socket.pyc\u001b[0m in \u001b[0;36mreadline\u001b[0;34m(self, size)\u001b[0m\n\u001b[1;32m    432\u001b[0m                     \u001b[0;32mtry\u001b[0m\u001b[0;34m:\u001b[0m\u001b[0;34m\u001b[0m\u001b[0m\n\u001b[1;32m    433\u001b[0m                         \u001b[0;32mwhile\u001b[0m \u001b[0mdata\u001b[0m \u001b[0;34m!=\u001b[0m \u001b[0;34m\"\\n\"\u001b[0m\u001b[0;34m:\u001b[0m\u001b[0;34m\u001b[0m\u001b[0m\n\u001b[0;32m--> 434\u001b[0;31m                             \u001b[0mdata\u001b[0m \u001b[0;34m=\u001b[0m \u001b[0mrecv\u001b[0m\u001b[0;34m(\u001b[0m\u001b[0;36m1\u001b[0m\u001b[0;34m)\u001b[0m\u001b[0;34m\u001b[0m\u001b[0m\n\u001b[0m\u001b[1;32m    435\u001b[0m                             \u001b[0;32mif\u001b[0m \u001b[0;32mnot\u001b[0m \u001b[0mdata\u001b[0m\u001b[0;34m:\u001b[0m\u001b[0;34m\u001b[0m\u001b[0m\n\u001b[1;32m    436\u001b[0m                                 \u001b[0;32mbreak\u001b[0m\u001b[0;34m\u001b[0m\u001b[0m\n",
      "\u001b[0;31mKeyboardInterrupt\u001b[0m: "
     ]
    }
   ],
   "source": [
    "# Stringindexer transformations\n",
    "from pyspark.ml.feature import StringIndexer\n",
    "\n",
    "indexer1 = StringIndexer(inputCol=\"qname_most_popular\", outputCol=\"qname_most_popular_idx\")\n",
    "indexer2 = StringIndexer(inputCol=\"qname_least_popular\", outputCol=\"qname_least_popular_idx\")\n",
    "indexer3 = StringIndexer(inputCol=\"dstIP_most_popular\", outputCol=\"dstIP_most_popular_idx\")\n",
    "indexer4 = StringIndexer(inputCol=\"nic_manuf\", outputCol=\"nic_manuf_idx\")\n",
    "\n",
    "ip_feature_df_indexed = ip_feature_df_updated\n",
    "ip_feature_df_indexed = indexer1.fit(ip_feature_df_indexed).transform(ip_feature_df_indexed)\n",
    "#ip_feature_df_indexed = indexer2.fit(ip_feature_df_indexed).transform(ip_feature_df_indexed)\n",
    "#ip_feature_df_indexed = indexer3.fit(ip_feature_df_indexed).transform(ip_feature_df_indexed)\n",
    "#ip_feature_df_indexed = indexer4.fit(ip_feature_df_indexed).transform(ip_feature_df_indexed)\n",
    "ip_feature_df_indexed.show()"
   ]
  },
  {
   "cell_type": "code",
   "execution_count": null,
   "metadata": {
    "collapsed": false
   },
   "outputs": [],
   "source": [
    "\n",
    "\n",
    "             "
   ]
  },
  {
   "cell_type": "code",
   "execution_count": null,
   "metadata": {
    "collapsed": false
   },
   "outputs": [],
   "source": [
    "\n",
    "\n",
    "\n"
   ]
  },
  {
   "cell_type": "code",
   "execution_count": null,
   "metadata": {
    "collapsed": false
   },
   "outputs": [],
   "source": [
    "domain_level = 2\n",
    "#test_df = dns_data_df.select(\".\".join([str(x) for x in dns_data_df['qname'].split('.')[-domain_level:]]),1)\n",
    "test_df = dns_data_df.select(dns_data_df.qname)\n"
   ]
  },
  {
   "cell_type": "code",
   "execution_count": 23,
   "metadata": {
    "collapsed": false
   },
   "outputs": [
    {
     "name": "stdout",
     "output_type": "stream",
     "text": [
      "root\n",
      " |-- ts: string (nullable = true)\n",
      " |-- xx: string (nullable = true)\n",
      " |-- srcIP: string (nullable = true)\n",
      " |-- dstIP: string (nullable = true)\n",
      " |-- qname: string (nullable = true)\n",
      " |-- qtype: string (nullable = true)\n",
      " |-- macAddr: string (nullable = true)\n",
      " |-- subnet: string (nullable = true)\n",
      " |-- host_type: string (nullable = true)\n",
      " |-- host_name: string (nullable = true)\n",
      " |-- system_type: string (nullable = true)\n",
      " |-- OS: string (nullable = true)\n",
      " |-- nic_manuf: string (nullable = true)\n",
      " |-- qname_1_ld: string (nullable = true)\n",
      " |-- qname_2_ld: string (nullable = true)\n",
      "\n"
     ]
    }
   ],
   "source": [
    "from pyspark.sql.functions import lit\n",
    "#test_df = dns_data_df.withColumn(\"qname_count\", lit(1))\n",
    "# \".\".join([str(x) for x in dns_data_df.qname.split('.')[-level:]])\n",
    "test_df = dns_data_df\n",
    "\n",
    "for level in range(1,3):\n",
    "    col_name = 'qname_'+str(level)+'_ld'\n",
    "    test_df = test_df.withColumn(col_name, test_df['qname'])\n",
    "    \n",
    "test_df.printSchema()\n",
    "test_df = test_df.map(lambda p: (p.qname, \".\".join([str(x) for x in str(p.qname_1_ld).split('.')[-1:]]),\n",
    "                                \".\".join([str(x) for x in str(p.qname_2_ld).split('.')[-2:]]))).toDF()"
   ]
  },
  {
   "cell_type": "code",
   "execution_count": 24,
   "metadata": {
    "collapsed": false
   },
   "outputs": [
    {
     "name": "stdout",
     "output_type": "stream",
     "text": [
      "+--------------------+---+---------------+\n",
      "|                  _1| _2|             _3|\n",
      "+--------------------+---+---------------+\n",
      "| api.smoot.apple.com|com|      apple.com|\n",
      "|r20---sn-hgn7zn7e...|com|googlevideo.com|\n",
      "|     rtax.criteo.com|com|     criteo.com|\n",
      "|user.auth.xboxliv...|com|   xboxlive.com|\n",
      "|user.auth.xboxliv...|com|   xboxlive.com|\n",
      "|             poal.me| me|        poal.me|\n",
      "|deazs14tb5j7o.clo...|net| cloudfront.net|\n",
      "|widgets.outbrain.com|com|   outbrain.com|\n",
      "|     mail.google.com|com|     google.com|\n",
      "|r20---sn-hgn7zn7e...|com|googlevideo.com|\n",
      "|as-sec.casalemedi...|com|casalemedia.com|\n",
      "|stats.l.doublecli...|net|doubleclick.net|\n",
      "|streamingaudio.g....|com|    aaplimg.com|\n",
      "|streamingaudio.g....|com|    aaplimg.com|\n",
      "|        sr.symcd.com|com|      symcd.com|\n",
      "|PDOM07.pu.win.pri...|edu|  princeton.edu|\n",
      "|ocos-office365-s2...|net|     msedge.net|\n",
      "|config.edge.skype...|com|      skype.com|\n",
      "|init-p01md.apple.com|com|      apple.com|\n",
      "|p20-keyvalueservi...|com|     icloud.com|\n",
      "+--------------------+---+---------------+\n",
      "only showing top 20 rows\n",
      "\n"
     ]
    }
   ],
   "source": [
    "test_df.show()"
   ]
  },
  {
   "cell_type": "code",
   "execution_count": null,
   "metadata": {
    "collapsed": true
   },
   "outputs": [],
   "source": []
  }
 ],
 "metadata": {
  "kernelspec": {
   "display_name": "Python 2",
   "language": "python",
   "name": "python2"
  },
  "language_info": {
   "codemirror_mode": {
    "name": "ipython",
    "version": 2
   },
   "file_extension": ".py",
   "mimetype": "text/x-python",
   "name": "python",
   "nbconvert_exporter": "python",
   "pygments_lexer": "ipython2",
   "version": "2.7.13"
  }
 },
 "nbformat": 4,
 "nbformat_minor": 2
}
