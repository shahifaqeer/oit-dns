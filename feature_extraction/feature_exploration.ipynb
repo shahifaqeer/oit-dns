{
 "cells": [
  {
   "cell_type": "code",
   "execution_count": 1,
   "metadata": {
    "collapsed": false
   },
   "outputs": [],
   "source": [
    "from __future__ import print_function\n",
    "\n",
    "# $example on$\n",
    "from pyspark.ml.feature import StringIndexer\n",
    "from pyspark import SparkContext\n",
    "from pyspark.sql import SQLContext\n",
    "\n",
    "sql_sc = SQLContext(sc)"
   ]
  },
  {
   "cell_type": "code",
   "execution_count": 4,
   "metadata": {
    "collapsed": false
   },
   "outputs": [],
   "source": [
    "# First start the analysis for a sample 1 hour data, we can easily expand this to multiple hours. \n",
    "fname = '/tigress/arpitg/dns_data/tshark_20170207_20170212_consolidated/split_hour_00118_20170211215900.csv'\n",
    "\n",
    "dns_data = []\n",
    "with open(fname, 'r') as f:\n",
    "    for line in f:\n",
    "        tmp = line.split('\\n')[0].split(',')\n",
    "        dns_data.append(tuple(tmp))"
   ]
  },
  {
   "cell_type": "code",
   "execution_count": 5,
   "metadata": {
    "collapsed": false
   },
   "outputs": [
    {
     "name": "stdout",
     "output_type": "stream",
     "text": [
      "[('1486868340.890438000', '0.001918000', '10.9.245.26', '10.8.0.5', 'api.smoot.apple.com', '0x00000001', '', 'vapornet100', 'host-dynamic', 'nat-oitwireless-inside-vapornet100-d-30235', '', '', ''), ('1486868340.891983000', '0.003463000', '10.8.241.29', '10.8.0.5', 'r20---sn-hgn7zn7e.googlevideo.com', '0x00000001', 'a4:02:b9:7e:a0:48', 'vapornet100', 'host-dynamic', 'nat-oitwireless-inside-vapornet100-b-28947', '', '', 'IntelCor')]\n"
     ]
    }
   ],
   "source": [
    "print (dns_data[:2])"
   ]
  },
  {
   "cell_type": "code",
   "execution_count": 8,
   "metadata": {
    "collapsed": true
   },
   "outputs": [],
   "source": [
    "dns_data_df = sql_sc.createDataFrame(dns_data,[\"ts\", \"xx\", \"srcIP\", \"dstIP\", \"qname\", \"qtype\", \"macAddr\", \"subnet\", \n",
    "                                               \"host_type\", \"host_name\", \"system_type\", \"OS\", \"nic_manuf\"])"
   ]
  },
  {
   "cell_type": "code",
   "execution_count": 9,
   "metadata": {
    "collapsed": false
   },
   "outputs": [
    {
     "name": "stdout",
     "output_type": "stream",
     "text": [
      "root\n",
      " |-- ts: string (nullable = true)\n",
      " |-- xx: string (nullable = true)\n",
      " |-- srcIP: string (nullable = true)\n",
      " |-- dstIP: string (nullable = true)\n",
      " |-- qname: string (nullable = true)\n",
      " |-- qtype: string (nullable = true)\n",
      " |-- macAddr: string (nullable = true)\n",
      " |-- subnet: string (nullable = true)\n",
      " |-- host_type: string (nullable = true)\n",
      " |-- host_name: string (nullable = true)\n",
      " |-- system_type: string (nullable = true)\n",
      " |-- OS: string (nullable = true)\n",
      " |-- nic_manuf: string (nullable = true)\n",
      "\n"
     ]
    }
   ],
   "source": [
    "dns_data_df.printSchema()"
   ]
  },
  {
   "cell_type": "code",
   "execution_count": 11,
   "metadata": {
    "collapsed": false
   },
   "outputs": [
    {
     "name": "stdout",
     "output_type": "stream",
     "text": [
      "+------------+------+\n",
      "|   nic_manuf| count|\n",
      "+------------+------+\n",
      "|    RivetNet|  1735|\n",
      "|    SonyMobi|   471|\n",
      "|    Tp-LinkT|   447|\n",
      "|    Azurewav|  1612|\n",
      "|    MurataMa| 11237|\n",
      "|    EdimaxTe|  1261|\n",
      "|     Epigram|    52|\n",
      "|     Private|   276|\n",
      "|    ChiMeiCo|     6|\n",
      "|    AmazonTe|   241|\n",
      "|    ChiconyE|  1537|\n",
      "|  0x0000995a|     1|\n",
      "|         Htc|  6035|\n",
      "|    PcsCompu|     2|\n",
      "|    Motorola|  6239|\n",
      "|     Kyocera|   174|\n",
      "|     Samsung|   126|\n",
      "|    Datawire|    46|\n",
      "|       Apple|416443|\n",
      "|host-dynamic|    21|\n",
      "+------------+------+\n",
      "only showing top 20 rows\n",
      "\n"
     ]
    }
   ],
   "source": [
    "dns_data_df.groupBy(\"nic_manuf\").count().show()"
   ]
  },
  {
   "cell_type": "code",
   "execution_count": 21,
   "metadata": {
    "collapsed": false
   },
   "outputs": [
    {
     "name": "stdout",
     "output_type": "stream",
     "text": [
      "+--------------------+-----+\n",
      "|               qname|count|\n",
      "+--------------------+-----+\n",
      "|ubi.hivoice.cn.pr...|    5|\n",
      "|csghub209w.Prince...| 1580|\n",
      "|esshp-sp100.Princ...|    6|\n",
      "|      imap.gmail.com| 4954|\n",
      "|        cs.adingo.jp|   62|\n",
      "|device-metrics-us...|  453|\n",
      "|ocos-office365-s2...|  426|\n",
      "|      www.amazon.com| 1110|\n",
      "|    www.gravatar.com|  206|\n",
      "|     e4.whatsapp.net|  102|\n",
      "|129.86.185.61.bro...|    2|\n",
      "|LISTSERVER.JJAY.C...|    2|\n",
      "|photos-1.dropbox.com|    7|\n",
      "|216.206.153.179.i...|    2|\n",
      "|gsp36-ssl.ls-appl...|   60|\n",
      "|    cdn.livefyre.com|   72|\n",
      "|  buttons.reddit.com|   26|\n",
      "|p04-btmmdns.iclou...|    9|\n",
      "|2.secUrEDnS.AvaSt...|    1|\n",
      "|     api.acompli.net|   37|\n",
      "+--------------------+-----+\n",
      "only showing top 20 rows\n",
      "\n"
     ]
    }
   ],
   "source": [
    "dns_data_df.groupBy(\"qname\").count().show()"
   ]
  },
  {
   "cell_type": "code",
   "execution_count": null,
   "metadata": {
    "collapsed": false
   },
   "outputs": [],
   "source": []
  },
  {
   "cell_type": "code",
   "execution_count": null,
   "metadata": {
    "collapsed": true
   },
   "outputs": [],
   "source": []
  }
 ],
 "metadata": {
  "kernelspec": {
   "display_name": "Python 2",
   "language": "python",
   "name": "python2"
  },
  "language_info": {
   "codemirror_mode": {
    "name": "ipython",
    "version": 2
   },
   "file_extension": ".py",
   "mimetype": "text/x-python",
   "name": "python",
   "nbconvert_exporter": "python",
   "pygments_lexer": "ipython2",
   "version": "2.7.13"
  }
 },
 "nbformat": 4,
 "nbformat_minor": 2
}
