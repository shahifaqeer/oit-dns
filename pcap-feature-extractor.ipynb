{
 "cells": [
  {
   "cell_type": "code",
   "execution_count": 66,
   "metadata": {
    "collapsed": true
   },
   "outputs": [],
   "source": [
    "from __future__ import division\n",
    "import numpy as np\n",
    "import os, sys\n",
    "import matplotlib\n",
    "#matplotlib.use('Agg')\n",
    "%matplotlib nbagg\n",
    "import matplotlib.pyplot as plt\n",
    "import pandas as pd\n",
    "import subprocess\n",
    "from collections import defaultdict\n",
    "\n",
    "\n",
    "def getCDF(data):\n",
    "    xdata = np.sort(data)\n",
    "    ydata = [i/len(xdata) for i in range(len(xdata))]\n",
    "    return xdata, ydata"
   ]
  },
  {
   "cell_type": "markdown",
   "metadata": {},
   "source": [
    "# STEPS\n",
    "- load pcap -> tshark extract\n",
    "- load tshark csv\n",
    "- filter to a record only\n",
    "- key srcip\n",
    "- apply feature functions\n",
    " - number of dst\n",
    " - number of A queries\n",
    " - number of unique A queries\n",
    " - diff all: avg, 50%, min, max\n",
    " - most popular query 1,2,3,4,5\n",
    " - most popular query diff 1,2,3,4,5: avg\n",
    " - least popular query\n",
    " - FREQUENCY BASED FEATURES (need to finish resampling code #todo)"
   ]
  },
  {
   "cell_type": "code",
   "execution_count": null,
   "metadata": {
    "collapsed": false
   },
   "outputs": [],
   "source": [
    "# load from data/ and extract to processed/\n",
    "infile='data/split_6hour_00000_20170206235900.pcap'\n",
    "outfile='processed/split_6hour_00000_20170206235900.csv'\n",
    "\n",
    "cmd_extract = 'tshark -r '+infile+' -E separator=\"|\" -T fields -e frame.time_epoch \\\n",
    "-e frame.time_relative -e ip.src -e ip.dst -e dns.qry.name -e dns.qry.type -Y \"dns.flags.response eq 0\" \\\n",
    "> '+outfile\n",
    "\n",
    "subprocess.check_output(cmd_extract, shell=True)"
   ]
  },
  {
   "cell_type": "code",
   "execution_count": null,
   "metadata": {
    "collapsed": false
   },
   "outputs": [],
   "source": [
    "# load csv from processed\n",
    "df = pd.read_csv(\"processed/split_hour_00000_20170206235900.csv\", sep=\"|\", error_bad_lines=False,\n",
    "                names=['time', 'time_relative', 'srcip', 'dstip', 'dnsqry', 'dnstype'],\n",
    "                #dtype={'time': pd.np.float, 'time_relative': pd.np.float64, 'dnstype': pd.np.int},\n",
    "                ).dropna()"
   ]
  },
  {
   "cell_type": "code",
   "execution_count": null,
   "metadata": {
    "collapsed": false
   },
   "outputs": [],
   "source": [
    "df['time'] = df['time'].astype(float)\n",
    "df['time_relative'] = df['time_relative'].astype(float)"
   ]
  },
  {
   "cell_type": "markdown",
   "metadata": {},
   "source": [
    "### Stats by dns.qry.type\n",
    "- convert qry type hex -> int\n",
    "- A record == 1\n",
    "- for 2 or more qry type take the first one after splitting"
   ]
  },
  {
   "cell_type": "code",
   "execution_count": null,
   "metadata": {
    "collapsed": false
   },
   "outputs": [],
   "source": [
    "dnstype_count = df.groupby('dnstype')['dnsqry'].count()\n",
    "dnstype_count.sort_values(inplace=True, ascending=False)\n",
    "\n",
    "print \"Percentage of A Records = \", dnstype_count.iloc[0]/dnstype_count.sum()*100\n",
    "\n",
    "dnstype_count.head(15)"
   ]
  },
  {
   "cell_type": "code",
   "execution_count": 64,
   "metadata": {
    "collapsed": false
   },
   "outputs": [
    {
     "name": "stdout",
     "output_type": "stream",
     "text": [
      "New percentage of A Records =  77.8234565834\n"
     ]
    },
    {
     "name": "stderr",
     "output_type": "stream",
     "text": [
      "/usr/local/lib/python2.7/site-packages/ipykernel/__main__.py:5: FutureWarning: sort is deprecated, use sort_values(inplace=True) for for INPLACE sorting\n"
     ]
    }
   ],
   "source": [
    "# convert dnstype to int (take only first type in case of 2)\n",
    "df['dnstype'] = df['dnstype'].apply(lambda x: int( x.split(',')[0], 16))\n",
    "\n",
    "dnstype_count = df.groupby('dnstype')['dnsqry'].count()\n",
    "dnstype_count.dnstype_count.sort_values(inplace=True, ascending=False)\n",
    "\n",
    "print \"New percentage of A Records = \", dnstype_count.iloc[0]/dnstype_count.sum()*100"
   ]
  },
  {
   "cell_type": "markdown",
   "metadata": {},
   "source": [
    "### filter to A records only"
   ]
  },
  {
   "cell_type": "code",
   "execution_count": null,
   "metadata": {
    "collapsed": false
   },
   "outputs": [],
   "source": [
    "df_a = df[df.dnstype == 1]"
   ]
  },
  {
   "cell_type": "code",
   "execution_count": null,
   "metadata": {
    "collapsed": false
   },
   "outputs": [],
   "source": [
    "df"
   ]
  },
  {
   "cell_type": "code",
   "execution_count": null,
   "metadata": {
    "collapsed": true
   },
   "outputs": [],
   "source": []
  }
 ],
 "metadata": {
  "kernelspec": {
   "display_name": "Python 2",
   "language": "python",
   "name": "python2"
  },
  "language_info": {
   "codemirror_mode": {
    "name": "ipython",
    "version": 2
   },
   "file_extension": ".py",
   "mimetype": "text/x-python",
   "name": "python",
   "nbconvert_exporter": "python",
   "pygments_lexer": "ipython2",
   "version": "2.7.10"
  }
 },
 "nbformat": 4,
 "nbformat_minor": 0
}
