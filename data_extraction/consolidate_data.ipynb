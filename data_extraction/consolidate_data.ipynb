{
 "cells": [
  {
   "cell_type": "code",
   "execution_count": 43,
   "metadata": {
    "collapsed": true
   },
   "outputs": [],
   "source": [
    "from __future__ import division\n",
    "import numpy as np\n",
    "import os, sys\n",
    "import matplotlib\n",
    "#matplotlib.use('Agg')\n",
    "%matplotlib nbagg\n",
    "import matplotlib.pyplot as plt\n",
    "import pandas as pd\n",
    "from collections import defaultdict\n",
    "import csv\n",
    "import pickle"
   ]
  },
  {
   "cell_type": "code",
   "execution_count": 44,
   "metadata": {
    "collapsed": false
   },
   "outputs": [],
   "source": [
    "with open('../data/ip_2_mac_dict.pickle', 'r') as f:\n",
    "    ip_2_mac_dict = pickle.load(f)\n",
    "    \n",
    "with open('../data/host_data_dict.pickle', 'r') as f:\n",
    "    host_data_dict = pickle.load(f)"
   ]
  },
  {
   "cell_type": "code",
   "execution_count": 45,
   "metadata": {
    "collapsed": false
   },
   "outputs": [],
   "source": [
    "mac_2_manuf = {}\n",
    "with open('../data/mac-manuf.csv') as f:\n",
    "    for line in f:\n",
    "        tmp = line.split(',')\n",
    "        mac_2_manuf[tmp[0].lower()] = tmp[1].split('\\n')[0]"
   ]
  },
  {
   "cell_type": "code",
   "execution_count": 46,
   "metadata": {
    "collapsed": false,
    "scrolled": true
   },
   "outputs": [
    {
     "name": "stdout",
     "output_type": "stream",
     "text": [
      "Processing file ../data/tshark_20170207_20170212/split_hour_00118_20170211215900.csv\n",
      "Dumping file: ../data/tshark_20170207_20170212_consolidated/split_hour_00118_20170211215900.csv\n"
     ]
    }
   ],
   "source": [
    "import glob\n",
    "dns_fnames = glob.glob(\"../data/tshark_20170207_20170212/*.csv\")\n",
    "\n",
    "for dns_fname in dns_fnames:\n",
    "    print \"Processing file\", dns_fname\n",
    "    dns_data = []\n",
    "    out_str = ''\n",
    "    with open(dns_fname, 'r') as f:\n",
    "        ctr = 0\n",
    "        for line in f:\n",
    "            tmp = line.split('|')\n",
    "            if len(tmp) > 2:\n",
    "                tmp[-1] = tmp[-1].split('\\n')[0]\n",
    "                ip_addr_str = tmp[2]\n",
    "                    \n",
    "                if ip_addr_str in host_data_dict:\n",
    "                    mac_addr_str = host_data_dict[ip_addr_str][0]\n",
    "                    if mac_addr_str == '' and ip_addr_str in ip_2_mac_dict:\n",
    "                        mac_addr_str = list(list(ip_2_mac_dict[ip_addr_str])[0])[0]\n",
    "                    trimmed_str = []\n",
    "                    for elem in mac_addr_str.split(':')[:3]:\n",
    "                        if len(elem) == 1:\n",
    "                            trimmed_str.append('0'+elem.lower())\n",
    "                        else:\n",
    "                            trimmed_str.append(elem.lower())\n",
    "                            \n",
    "                    mac_addr_str_trimmed = ':'.join([str(x) for x in trimmed_str])\n",
    "                    \n",
    "                    if mac_addr_str_trimmed in mac_2_manuf:\n",
    "                        manuf = mac_2_manuf[mac_addr_str_trimmed]\n",
    "                    else:\n",
    "                        manuf = ''\n",
    "                    \n",
    "                    tmp += list(host_data_dict[ip_addr_str])+[manuf]\n",
    "                else:\n",
    "                     tmp += ['','','', '','','', '']     \n",
    "                dns_data.append(tuple(tmp))\n",
    "                out_str += ','.join([str(x) for x in tmp])+'\\n'\n",
    "        out_str = out_str[:-1]\n",
    "        \n",
    "        \n",
    "    \n",
    "    dump_fname = '../data/tshark_20170207_20170212_consolidated/'+dns_fname.split('.csv')[0].split('data/tshark_20170207_20170212/')[1]+'.csv'\n",
    "    print \"Dumping file:\", dump_fname\n",
    "    with open(dump_fname, 'w') as f:\n",
    "        f.write(out_str)\n",
    "    break\n",
    "    \n",
    "        "
   ]
  },
  {
   "cell_type": "code",
   "execution_count": 35,
   "metadata": {
    "collapsed": false
   },
   "outputs": [
    {
     "data": {
      "text/plain": [
       "'Vmware'"
      ]
     },
     "execution_count": 35,
     "metadata": {},
     "output_type": "execute_result"
    }
   ],
   "source": [
    "mac_2_manuf['00:0c:29']"
   ]
  },
  {
   "cell_type": "code",
   "execution_count": null,
   "metadata": {
    "collapsed": false
   },
   "outputs": [],
   "source": []
  },
  {
   "cell_type": "code",
   "execution_count": null,
   "metadata": {
    "collapsed": true
   },
   "outputs": [],
   "source": []
  },
  {
   "cell_type": "code",
   "execution_count": null,
   "metadata": {
    "collapsed": true
   },
   "outputs": [],
   "source": []
  }
 ],
 "metadata": {
  "kernelspec": {
   "display_name": "Python 2",
   "language": "python",
   "name": "python2"
  },
  "language_info": {
   "codemirror_mode": {
    "name": "ipython",
    "version": 2
   },
   "file_extension": ".py",
   "mimetype": "text/x-python",
   "name": "python",
   "nbconvert_exporter": "python",
   "pygments_lexer": "ipython2",
   "version": "2.7.13"
  }
 },
 "nbformat": 4,
 "nbformat_minor": 2
}
