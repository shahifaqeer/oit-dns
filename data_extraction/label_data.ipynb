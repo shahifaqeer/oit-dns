{
 "cells": [
  {
   "cell_type": "code",
   "execution_count": 53,
   "metadata": {
    "collapsed": true
   },
   "outputs": [],
   "source": [
    "from __future__ import print_function\n",
    "\n",
    "# $example on$\n",
    "from pyspark.ml.feature import StringIndexer\n",
    "from pyspark import SparkContext\n",
    "from pyspark.sql import SQLContext\n",
    "\n",
    "\n",
    "sql_sc = SQLContext(sc)"
   ]
  },
  {
   "cell_type": "code",
   "execution_count": 86,
   "metadata": {
    "collapsed": false
   },
   "outputs": [
    {
     "name": "stdout",
     "output_type": "stream",
     "text": [
      "root\n",
      " |-- ts: string (nullable = true)\n",
      " |-- xx: string (nullable = true)\n",
      " |-- srcIP: string (nullable = true)\n",
      " |-- dstIP: string (nullable = true)\n",
      " |-- qname: string (nullable = true)\n",
      " |-- qtype: string (nullable = true)\n",
      " |-- macAddr: string (nullable = true)\n",
      " |-- subnet: string (nullable = true)\n",
      " |-- host_type: string (nullable = true)\n",
      " |-- host_name: string (nullable = true)\n",
      " |-- system_type: string (nullable = true)\n",
      " |-- OS: string (nullable = true)\n",
      " |-- nic_manuf: string (nullable = true)\n",
      "\n"
     ]
    }
   ],
   "source": [
    "from pyspark import SparkContext\n",
    "from pyspark.sql import SQLContext\n",
    "\n",
    "sql_sc = SQLContext(sc)\n",
    "\n",
    "rdd = (sc.textFile(\"/tigress/arpitg/dns_data/test.csv\")\n",
    "       .map(lambda line: line.split(',')))\n",
    "dns_data_df = rdd.toDF([\"ts\", \"xx\", \"srcIP\", \"dstIP\", \"qname\", \"qtype\", \"macAddr\", \n",
    "                        \"subnet\",\"host_type\", \"host_name\", \"system_type\", \"OS\", \"nic_manuf\"])\n",
    "dns_data_df.count()\n",
    "dns_data_df.printSchema()"
   ]
  },
  {
   "cell_type": "code",
   "execution_count": 126,
   "metadata": {
    "collapsed": false
   },
   "outputs": [
    {
     "name": "stdout",
     "output_type": "stream",
     "text": [
      "OS\n",
      "+--------------------+-----+\n",
      "|                  OS|count|\n",
      "+--------------------+-----+\n",
      "|                    |73699|\n",
      "|               linux|21616|\n",
      "|     ms-windows-2012| 2558|\n",
      "|             unknown|  986|\n",
      "|     ms-windows-2008|  712|\n",
      "|         apple-macos|  171|\n",
      "|             freebsd|   95|\n",
      "|             solaris|   77|\n",
      "|                 n/a|   48|\n",
      "|          vmware-esx|   25|\n",
      "|          uc-cuc-p01|    6|\n",
      "|     puias-linux-6.2|    4|\n",
      "|         vapornet100|    2|\n",
      "|nat-oitwireless-i...|    1|\n",
      "+--------------------+-----+\n",
      "\n",
      "14\n",
      "system_type\n",
      "+----------------+-----+\n",
      "|     system_type|count|\n",
      "+----------------+-----+\n",
      "|                |73701|\n",
      "| virtual-machine|21626|\n",
      "|         dell-pc| 3354|\n",
      "|        other-pc|  960|\n",
      "|             sun|  166|\n",
      "|         unknown|   56|\n",
      "| apple-macintosh|   49|\n",
      "|             n/a|   48|\n",
      "|          dec-pc|   25|\n",
      "|            host|    6|\n",
      "|fujitsu-rx200-s6|    4|\n",
      "|           other|    4|\n",
      "|    host-dynamic|    1|\n",
      "+----------------+-----+\n",
      "\n",
      "13\n",
      "nic_manuf\n",
      "+---------------+-----+\n",
      "|      nic_manuf|count|\n",
      "+---------------+-----+\n",
      "|               |43711|\n",
      "|         Vmware|22844|\n",
      "|          Apple|21066|\n",
      "|       IntelCor| 3350|\n",
      "|           Dell| 2651|\n",
      "|       SamsungE| 1301|\n",
      "|       MurataMa|  808|\n",
      "|       LiteonTe|  617|\n",
      "|       HonHaiPr|  578|\n",
      "|       LgElectr|  544|\n",
      "|       Motorola|  392|\n",
      "|            Htc|  339|\n",
      "|       Microsof|  202|\n",
      "|        Samsung|  198|\n",
      "|       OneplusT|  170|\n",
      "|       00:00:00|  153|\n",
      "|       HuaweiTe|  149|\n",
      "|ms-windows-2008|  120|\n",
      "|       GemtekTe|  114|\n",
      "|            Zte|   85|\n",
      "+---------------+-----+\n",
      "only showing top 20 rows\n",
      "\n",
      "49\n",
      "qname\n",
      "+--------------------+-----+\n",
      "|               qname|count|\n",
      "+--------------------+-----+\n",
      "|122.130.112.128.i...| 2858|\n",
      "|exchange.Princeto...| 1848|\n",
      "|      mesu.apple.com| 1262|\n",
      "|99.63.6.10.in-add...|  974|\n",
      "|89.94.248.50.sbl-...|  968|\n",
      "|98.63.6.10.in-add...|  968|\n",
      "|csgcas204w.prince...|  930|\n",
      "|      www.google.com|  880|\n",
      "|       princeton.edu|  839|\n",
      "| clients4.google.com|  761|\n",
      "|ssepo223w.princet...|  728|\n",
      "|exsmtp.princeton.edu|  726|\n",
      "|      www.icloud.com|  672|\n",
      "|       Princeton.EDU|  668|\n",
      "|janeway.princeton...|  616|\n",
      "|     ssl.gstatic.com|  595|\n",
      "|  graph.facebook.com|  592|\n",
      "|       www.apple.com|  575|\n",
      "|e6858.dsce9.akama...|  549|\n",
      "|exchange.princeto...|  522|\n",
      "+--------------------+-----+\n",
      "only showing top 20 rows\n",
      "\n",
      "14484\n"
     ]
    }
   ],
   "source": [
    "# Field =-based analysis\n",
    "fields_to_explore = [\"OS\", \"system_type\", \"nic_manuf\", \"qname\"]\n",
    "for fld in fields_to_explore:\n",
    "    types = (dns_data_df\n",
    "             .groupBy([fld])\n",
    "             .count()\n",
    "             .sort(\"count\", ascending=False)\n",
    "            )\n",
    "    print(fld)\n",
    "    types.show()\n",
    "    cnt = types.count()\n",
    "    print(cnt)"
   ]
  },
  {
   "cell_type": "code",
   "execution_count": 127,
   "metadata": {
    "collapsed": false
   },
   "outputs": [
    {
     "name": "stdout",
     "output_type": "stream",
     "text": [
      "{'OS': DataFrame[OS: string], 'system_type': DataFrame[system_type: string]}\n"
     ]
    }
   ],
   "source": [
    "# identify IPs that are definitely not IoT devices\n",
    "non_iot_filters = {\"system_type\":[\"virtual-machine\", \"dec-pc\", \"dell-pc\", \"other-pc\"],\n",
    "                   \"OS\":[\"solaris\", \"vmware-esx\", \"freebsd\", \"ms-windows-2012\", \"ms-windows-2008\", \"apple-macos\"]\n",
    "                  }\n",
    "non_iot_filters_df = dict((k,\n",
    "                           (sc.parallelize(v)\n",
    "                           .map(lambda p: (p,1))\n",
    "                           .toDF([k,\"count\"])\n",
    "                           .select([k]))) for k,v in non_iot_filters.iteritems()\n",
    "                         )\n",
    "print(non_iot_filters_df)"
   ]
  },
  {
   "cell_type": "code",
   "execution_count": 128,
   "metadata": {
    "collapsed": false
   },
   "outputs": [
    {
     "name": "stdout",
     "output_type": "stream",
     "text": [
      "Total 5409\n",
      "OS 542\n",
      "system_type 618\n"
     ]
    }
   ],
   "source": [
    "fld_2_non_iot_IPS = {}\n",
    "print(\"Total\", dns_data_df.select([\"srcIP\"]).distinct().count())\n",
    "for fld in non_iot_filters_df:\n",
    "    tmp = (dns_data_df\n",
    "           .select([\"srcIP\", fld])\n",
    "           .distinct())\n",
    "    \n",
    "    non_iot_IPs = (tmp\n",
    "               .join(non_iot_filters_df[fld], non_iot_filters_df[fld][fld] == tmp[fld], 'inner')\n",
    "               .select(\"srcIP\")\n",
    "               .distinct()\n",
    "              )\n",
    "    fld_2_non_iot_IPS[fld] = non_iot_IPs\n",
    "    print(fld, non_iot_IPs.count())\n",
    "    \n"
   ]
  }
 ],
 "metadata": {
  "kernelspec": {
   "display_name": "Python 2",
   "language": "python",
   "name": "python2"
  },
  "language_info": {
   "codemirror_mode": {
    "name": "ipython",
    "version": 2
   },
   "file_extension": ".py",
   "mimetype": "text/x-python",
   "name": "python",
   "nbconvert_exporter": "python",
   "pygments_lexer": "ipython2",
   "version": "2.7.13"
  }
 },
 "nbformat": 4,
 "nbformat_minor": 2
}
