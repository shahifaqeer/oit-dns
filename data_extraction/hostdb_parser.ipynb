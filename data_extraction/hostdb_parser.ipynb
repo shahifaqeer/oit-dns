{
 "cells": [
  {
   "cell_type": "code",
   "execution_count": 4,
   "metadata": {
    "collapsed": false
   },
   "outputs": [],
   "source": [
    "from __future__ import division\n",
    "import numpy as np\n",
    "import os, sys\n",
    "import matplotlib\n",
    "#matplotlib.use('Agg')\n",
    "%matplotlib nbagg\n",
    "import matplotlib.pyplot as plt\n",
    "import pandas as pd\n",
    "from collections import defaultdict\n",
    "import csv"
   ]
  },
  {
   "cell_type": "code",
   "execution_count": 5,
   "metadata": {
    "collapsed": false
   },
   "outputs": [],
   "source": [
    "host_data = []\n",
    "ctr = 0\n",
    "with open('../data/EXTERN.DB') as f:\n",
    "    for l in f:\n",
    "         if l.startswith('HOST;') or l.startswith('HOST-DYNAMIC;'):\n",
    "                split_list = l.split(';')\n",
    "                entry_type_str = split_list[0].lower()\n",
    "                hostname_str = split_list[1].lower()\n",
    "                system_type_str = split_list[5].lower()\n",
    "                os_type_str = split_list[6].lower()\n",
    "                \n",
    "                ip_addr_strings = []\n",
    "                for elem in split_list:\n",
    "                    if len(elem.split('.')) == 4:\n",
    "                        if elem.split('.')[0].isdigit():\n",
    "                            ip_addr_strings.append(elem)\n",
    "                            \n",
    "                for ip_addr_str in ip_addr_strings:      \n",
    "                    subnet_str = split_list[(split_list.index(ip_addr_str) - 1)]\n",
    "                    mac_addr_str = split_list[(split_list.index(ip_addr_str) + 3)]\n",
    "                    #print mac_addr_str, len(mac_addr_str.split(':')), split_list\n",
    "                    \n",
    "                    tpl = (ip_addr_str, mac_addr_str, subnet_str, entry_type_str, \n",
    "                           hostname_str, system_type_str, os_type_str)\n",
    "                    host_data.append(tpl)"
   ]
  },
  {
   "cell_type": "code",
   "execution_count": 6,
   "metadata": {
    "collapsed": false
   },
   "outputs": [
    {
     "name": "stdout",
     "output_type": "stream",
     "text": [
      "381535\n"
     ]
    }
   ],
   "source": [
    "print len(host_data)"
   ]
  },
  {
   "cell_type": "code",
   "execution_count": 7,
   "metadata": {
    "collapsed": false
   },
   "outputs": [
    {
     "name": "stdout",
     "output_type": "stream",
     "text": [
      "[('128.112.193.195', '34:17:eb:d9:d4:c1', 'westnet', 'host', 'pha-1ssdq22', 'dell-pc', 'ms-windows-7'), ('172.29.13.149', '0:1b:63:ba:88:a2', 'recyclenet', 'host', 'aggiornamento', 'apple-macintosh', 'apple-macos'), ('172.30.9.102', '0:1e:52:81:50:d7', 'wirelessnet', 'host', 'aggiornamento', 'apple-macintosh', 'apple-macos'), ('128.112.32.83', '0:1c:23:a9:eb:f3', 'equadnet', 'host', 'mae-scad', 'dell-pc', 'ms-windows-7'), ('172.30.26.12', '0:1d:60:a6:15:74', 'wirelessnet', 'host', 'mae-scad', 'dell-pc', 'ms-windows-7'), ('172.29.11.248', '0:16:cb:87:32:a7', 'recyclenet', 'host', 'nickanderson', 'apple-macintosh', 'apple-macos'), ('172.30.27.72', '0:14:51:ee:1a:9e', 'wirelessnet', 'host', 'nickanderson', 'apple-macintosh', 'apple-macos'), ('172.30.8.170', 'e0:c7:67:59:3f:92', 'wirelessnet', 'host', 'prs-aleanoiphone', 'apple-phone', 'apple-ios'), ('128.112.219.82', '98:90:96:a8:f0:94', 'clarinet', 'host', 'tank-jrw9842', 'dell-pc', 'ms-windows-7'), ('128.112.221.253', 'b8:ac:6f:2a:77:99', 'clarinet', 'host', 'eco-6bwykm1', 'dell-pc', 'ms-windows-7')]\n"
     ]
    }
   ],
   "source": [
    "print host_data[:10]"
   ]
  },
  {
   "cell_type": "code",
   "execution_count": 9,
   "metadata": {
    "collapsed": false
   },
   "outputs": [],
   "source": [
    "import pickle\n",
    "with open('../data/host_data.pickle', 'w') as f:\n",
    "    pickle.dump(host_data, f)"
   ]
  },
  {
   "cell_type": "code",
   "execution_count": 10,
   "metadata": {
    "collapsed": true
   },
   "outputs": [],
   "source": [
    "host_data_dict = {}\n",
    "for entry in host_data:\n",
    "    host_data_dict[entry[0]] = tuple(entry[1:])"
   ]
  },
  {
   "cell_type": "code",
   "execution_count": 12,
   "metadata": {
    "collapsed": false
   },
   "outputs": [],
   "source": [
    "import pickle\n",
    "with open('../data/host_data_dict.pickle', 'w') as f:\n",
    "    pickle.dump(host_data_dict, f)"
   ]
  },
  {
   "cell_type": "code",
   "execution_count": null,
   "metadata": {
    "collapsed": true
   },
   "outputs": [],
   "source": []
  },
  {
   "cell_type": "code",
   "execution_count": null,
   "metadata": {
    "collapsed": true
   },
   "outputs": [],
   "source": []
  }
 ],
 "metadata": {
  "kernelspec": {
   "display_name": "Python 2",
   "language": "python",
   "name": "python2"
  },
  "language_info": {
   "codemirror_mode": {
    "name": "ipython",
    "version": 2
   },
   "file_extension": ".py",
   "mimetype": "text/x-python",
   "name": "python",
   "nbconvert_exporter": "python",
   "pygments_lexer": "ipython2",
   "version": "2.7.10"
  }
 },
 "nbformat": 4,
 "nbformat_minor": 2
}
