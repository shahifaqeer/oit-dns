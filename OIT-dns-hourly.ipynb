{
 "cells": [
  {
   "cell_type": "code",
   "execution_count": 18,
   "metadata": {
    "collapsed": false
   },
   "outputs": [
    {
     "data": {
      "text/plain": [
       "1099284"
      ]
     },
     "execution_count": 18,
     "metadata": {},
     "output_type": "execute_result"
    }
   ],
   "source": [
    "from pyspark import SparkContext\n",
    "from pyspark.sql import SQLContext\n",
    "import pandas as pd\n",
    "import math\n",
    "\n",
    "dns_flows_File = '../../sgrover/data/1hour-night/split_hour_00002_20170124015900.csv'\n",
    "\n",
    "sql_sc = SQLContext(sc)\n",
    "\n",
    "def add_domain(domain):\n",
    "    n_levels = 3\n",
    "    tmp = domain.split('.')\n",
    "    out = []\n",
    "    for level in range(1, 1+n_levels):\n",
    "        out.append('.'.join(tmp[-level:]))\n",
    "    return out\n",
    "\n",
    "def fix_unicode_issue(domain):\n",
    "    try:\n",
    "        out = str(domain)\n",
    "    except:\n",
    "        out = ''\n",
    "    return out\n",
    "        \n",
    "    \n",
    "\n",
    "pandas_df = pd.read_csv(dns_flows_File, sep=\"|\", error_bad_lines=False,\n",
    "               names=['time', 'srcip', 'dstip', 'dnsquery']).dropna() \n",
    "# pandas_df = pd.read_csv('file.csv', names = ['column 1','column 2']) # if no header\n",
    "s_rdd = sql_sc.createDataFrame(pandas_df).rdd\n",
    "s_rdd.count()"
   ]
  },
  {
   "cell_type": "code",
   "execution_count": 20,
   "metadata": {
    "collapsed": false
   },
   "outputs": [
    {
     "name": "stdout",
     "output_type": "stream",
     "text": [
      "[(0, '10.9.186.52', '10.8.0.5', 'www.youtube.com', 'com', 'youtube.com', 'www.youtube.com'), (0, '10.9.186.52', '10.8.0.6', 'www.youtube.com', 'com', 'youtube.com', 'www.youtube.com')]\n"
     ]
    }
   ],
   "source": [
    "augmented_data = (s_rdd\n",
    "                  .map(lambda s: tuple([str(x) for x in s[:-1]]+[fix_unicode_issue(s[3])]))\n",
    "                  # add different level domains as columns\n",
    "                  .map(lambda s: tuple([str(x) for x in s]+add_domain(str(s[3]))))\n",
    "                  # time in seconds\n",
    "                  .map(lambda s: tuple([int(float(s[0]))]+[str(x) for x in s[1:]]))\n",
    "                  \n",
    "                 )\n",
    "print augmented_data.take(2)"
   ]
  },
  {
   "cell_type": "code",
   "execution_count": 21,
   "metadata": {
    "collapsed": false
   },
   "outputs": [
    {
     "data": {
      "text/plain": [
       "[(31,\n",
       "  '10.8.21.156',\n",
       "  '10.8.0.5',\n",
       "  'iphone-cdn-client.fitbit.com',\n",
       "  'com',\n",
       "  'fitbit.com',\n",
       "  'iphone-cdn-client.fitbit.com'),\n",
       " (75,\n",
       "  '10.8.172.204',\n",
       "  '10.8.0.5',\n",
       "  'android-cdn-client.fitbit.com',\n",
       "  'com',\n",
       "  'fitbit.com',\n",
       "  'android-cdn-client.fitbit.com')]"
      ]
     },
     "execution_count": 21,
     "metadata": {},
     "output_type": "execute_result"
    }
   ],
   "source": [
    "fitbit_data = augmented_data.filter(lambda s: 'fitbit' in str(s[3]))\n",
    "fitbit_data.take(2)"
   ]
  },
  {
   "cell_type": "code",
   "execution_count": 59,
   "metadata": {
    "collapsed": false,
    "scrolled": false
   },
   "outputs": [
    {
     "name": "stdout",
     "output_type": "stream",
     "text": [
      "1\n"
     ]
    },
    {
     "data": {
      "text/plain": [
       "[('10.9.19.24',\n",
       "  [5,\n",
       "   5,\n",
       "   5,\n",
       "   50,\n",
       "   50,\n",
       "   50,\n",
       "   36,\n",
       "   35,\n",
       "   35,\n",
       "   35,\n",
       "   35,\n",
       "   35,\n",
       "   35,\n",
       "   4,\n",
       "   4,\n",
       "   4,\n",
       "   4,\n",
       "   9,\n",
       "   9,\n",
       "   9,\n",
       "   9,\n",
       "   51,\n",
       "   20,\n",
       "   20,\n",
       "   20])]"
      ]
     },
     "execution_count": 59,
     "metadata": {},
     "output_type": "execute_result"
    }
   ],
   "source": [
    "import numpy as np\n",
    "fitbit_sip_domain = (\n",
    "                    #fitbit_data\n",
    "                     augmented_data\n",
    "                     .filter(lambda s: str(s[1]) == '10.9.19.24')\n",
    "                     #.filter(lambda s: 'iphone-cdn-client.fitbit.com' in str(s[3]))\n",
    "                     #.map(lambda s: ((s[1], s[3]), s[0]))\n",
    "                     .map(lambda s: ((s[1]), int(float(s[0])/60)))\n",
    "                     .groupByKey()\n",
    "                     .map(lambda s: (s[0], list(s[1])))\n",
    "                     #.map(lambda s: (s[0], s[1], np.fft.fft(s[1])))\n",
    "                    )\n",
    "print len(fitbit_sip_domain.collect())\n",
    "fitbit_sip_domain.take(2)"
   ]
  },
  {
   "cell_type": "code",
   "execution_count": 60,
   "metadata": {
    "collapsed": false
   },
   "outputs": [
    {
     "name": "stdout",
     "output_type": "stream",
     "text": [
      "[51, 36, 9, 9, 9, 9, 20, 20, 20, 4, 4, 4, 4, 35, 35, 35, 35, 35, 35, 5, 5, 5, 50, 50, 50]\n",
      "[ 574.00000000  +0.j           77.31818302+114.85921098j\n",
      "  104.34306561 -31.51292597j  125.99104618+166.16126361j\n",
      "   31.64138714 +36.99363121j  -49.27708764 +21.07451237j\n",
      "   -0.85346077 -51.00414851j   39.27818254 -10.78320894j\n",
      "   16.88144547 -35.82062405j   19.12665477  +0.84165052j\n",
      "   22.27708764 -27.71939625j   -8.35988845 +46.06580304j\n",
      "  -27.86661550 +13.4673094j   -27.86661550 -13.4673094j\n",
      "   -8.35988845 -46.06580304j   22.27708764 +27.71939625j\n",
      "   19.12665477  -0.84165052j   16.88144547 +35.82062405j\n",
      "   39.27818254 +10.78320894j   -0.85346077 +51.00414851j\n",
      "  -49.27708764 -21.07451237j   31.64138714 -36.99363121j\n",
      "  125.99104618-166.16126361j  104.34306561 +31.51292597j\n",
      "   77.31818302-114.85921098j]\n"
     ]
    }
   ],
   "source": [
    "a = fitbit_sip_domain.collect()[0][1]\n",
    "print a\n",
    "import numpy as np\n",
    "x = np.fft.fft(a)\n",
    "print x\n"
   ]
  },
  {
   "cell_type": "code",
   "execution_count": 33,
   "metadata": {
    "collapsed": false
   },
   "outputs": [
    {
     "name": "stdout",
     "output_type": "stream",
     "text": [
      "256\n"
     ]
    },
    {
     "data": {
      "image/png": "[encoded data removed]",
      "text/plain": [
       "<matplotlib.figure.Figure at 0x2ba453c01cd0>"
      ]
     },
     "metadata": {},
     "output_type": "display_data"
    }
   ],
   "source": [
    "import matplotlib.pyplot as plt\n",
    "t = np.arange(256)\n",
    "sp = np.fft.fft(np.sin(t))\n",
    "print len(sp)\n",
    "freq = np.fft.fftfreq(t.shape[-1])\n",
    "plt.plot(freq, sp.real, freq, sp.imag)\n",
    "plt.show()"
   ]
  },
  {
   "cell_type": "code",
   "execution_count": 17,
   "metadata": {
    "collapsed": false
   },
   "outputs": [
    {
     "name": "stdout",
     "output_type": "stream",
     "text": [
      "[(u'10.9.120.227', 13), (u'10.8.147.102', 1), (u'140.180.219.162', 5), (u'10.9.42.157', 17), (u'10.9.131.13', 6)]\n"
     ]
    }
   ],
   "source": [
    "src_2_unique_queries = (s_rdd.map(lambda s: ((s[1],s[3]),1))\n",
    "                       .reduceByKey(lambda x,y: x+y)\n",
    "                       .map(lambda s: (s[0][0],1))\n",
    "                       .reduceByKey(lambda x,y: x+y)\n",
    "                      )\n",
    "print src_2_unique_queries.take(5)"
   ]
  },
  {
   "cell_type": "code",
   "execution_count": 18,
   "metadata": {
    "collapsed": false
   },
   "outputs": [
    {
     "name": "stdout",
     "output_type": "stream",
     "text": [
      "[(u'10.9.120.227', 25), (u'10.9.162.26', 35), (u'140.180.219.162', 14), (u'10.9.131.13', 7), (u'10.9.29.134', 30)]\n"
     ]
    }
   ],
   "source": [
    "src_2_total_queries = (s_rdd.map(lambda s: (s[1],1))\n",
    "                       .reduceByKey(lambda x,y: x+y)\n",
    "                      )\n",
    "print src_2_total_queries.take(5)"
   ]
  },
  {
   "cell_type": "code",
   "execution_count": 1,
   "metadata": {
    "collapsed": false,
    "scrolled": false
   },
   "outputs": [
    {
     "ename": "NameError",
     "evalue": "name 's_rdd' is not defined",
     "output_type": "error",
     "traceback": [
      "\u001b[0;31m---------------------------------------------------------------------------\u001b[0m",
      "\u001b[0;31mNameError\u001b[0m                                 Traceback (most recent call last)",
      "\u001b[0;32m<ipython-input-1-7fcff5387001>\u001b[0m in \u001b[0;36m<module>\u001b[0;34m()\u001b[0m\n\u001b[1;32m     10\u001b[0m \u001b[0madd_domain\u001b[0m\u001b[0;34m(\u001b[0m\u001b[0;34m'youtube.com'\u001b[0m\u001b[0;34m)\u001b[0m\u001b[0;34m\u001b[0m\u001b[0m\n\u001b[1;32m     11\u001b[0m \u001b[0;34m\u001b[0m\u001b[0m\n\u001b[0;32m---> 12\u001b[0;31m augmented_data = (s_rdd\n\u001b[0m\u001b[1;32m     13\u001b[0m                   \u001b[0;31m# add different level domains as columns\u001b[0m\u001b[0;34m\u001b[0m\u001b[0;34m\u001b[0m\u001b[0m\n\u001b[1;32m     14\u001b[0m                   \u001b[0;34m.\u001b[0m\u001b[0mmap\u001b[0m\u001b[0;34m(\u001b[0m\u001b[0;32mlambda\u001b[0m \u001b[0ms\u001b[0m\u001b[0;34m:\u001b[0m \u001b[0mtuple\u001b[0m\u001b[0;34m(\u001b[0m\u001b[0;34m[\u001b[0m\u001b[0mstr\u001b[0m\u001b[0;34m(\u001b[0m\u001b[0mx\u001b[0m\u001b[0;34m)\u001b[0m \u001b[0;32mfor\u001b[0m \u001b[0mx\u001b[0m \u001b[0;32min\u001b[0m \u001b[0ms\u001b[0m\u001b[0;34m]\u001b[0m\u001b[0;34m+\u001b[0m\u001b[0madd_domain\u001b[0m\u001b[0;34m(\u001b[0m\u001b[0mstr\u001b[0m\u001b[0;34m(\u001b[0m\u001b[0ms\u001b[0m\u001b[0;34m[\u001b[0m\u001b[0;36m3\u001b[0m\u001b[0;34m]\u001b[0m\u001b[0;34m)\u001b[0m\u001b[0;34m)\u001b[0m\u001b[0;34m)\u001b[0m\u001b[0;34m)\u001b[0m\u001b[0;34m\u001b[0m\u001b[0m\n",
      "\u001b[0;31mNameError\u001b[0m: name 's_rdd' is not defined"
     ]
    }
   ],
   "source": [
    "\n",
    "            \n",
    "    \n",
    "add_domain('youtube.com')\n",
    "\n",
    "\n",
    "\n",
    "print augmented_data.take(2)"
   ]
  },
  {
   "cell_type": "code",
   "execution_count": null,
   "metadata": {
    "collapsed": true
   },
   "outputs": [],
   "source": []
  }
 ],
 "metadata": {
  "kernelspec": {
   "display_name": "Python 2",
   "language": "python",
   "name": "python2"
  },
  "language_info": {
   "codemirror_mode": {
    "name": "ipython",
    "version": 2
   },
   "file_extension": ".py",
   "mimetype": "text/x-python",
   "name": "python",
   "nbconvert_exporter": "python",
   "pygments_lexer": "ipython2",
   "version": "2.7.13"
  }
 },
 "nbformat": 4,
 "nbformat_minor": 2
}
