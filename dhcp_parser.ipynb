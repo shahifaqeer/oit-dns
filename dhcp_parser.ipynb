{
 "cells": [
  {
   "cell_type": "code",
   "execution_count": 2,
   "metadata": {
    "collapsed": true
   },
   "outputs": [],
   "source": [
    "from __future__ import division\n",
    "import numpy as np\n",
    "import os, sys\n",
    "import matplotlib\n",
    "#matplotlib.use('Agg')\n",
    "%matplotlib nbagg\n",
    "import matplotlib.pyplot as plt\n",
    "import pandas as pd\n",
    "from collections import defaultdict\n",
    "import csv\n"
   ]
  },
  {
   "cell_type": "code",
   "execution_count": 3,
   "metadata": {
    "collapsed": false
   },
   "outputs": [],
   "source": [
    "df = pd.read_csv(\"data/hashed_mac_dhcp_lease_20170207_20170212.csv\", sep=\"|\", error_bad_lines=False,\n",
    "                names=['time', 'srcip', 'dstip', 'dnsquery']).dropna()\n",
    "\n",
    "dhcp_data = []\n",
    "with open('data/hashed_mac_dhcp_lease_20170207_20170212.csv') as csvfile:\n",
    "    reader = csv.DictReader(csvfile)\n",
    "    for row in reader:\n",
    "        tmp = (row['Alert.SrcMac'], row['Alert.SrcIP'],  row['Alert.FirstTime'], row['Alert.LastTime'])\n",
    "        dhcp_data.append(tmp)\n",
    "dhcp_rdd = sc.parallelize(dhcp_data)"
   ]
  },
  {
   "cell_type": "code",
   "execution_count": 8,
   "metadata": {
    "collapsed": false
   },
   "outputs": [
    {
     "data": {
      "text/plain": [
       "[('10.9.235.53',\n",
       "  '7C:04:D0:24:3C:83',\n",
       "  '2017/02/12 23:59:59',\n",
       "  '2017/02/12 23:59:59'),\n",
       " ('10.9.116.120',\n",
       "  '28:A0:2B:C2:F7:2B',\n",
       "  '2017/02/12 23:59:59',\n",
       "  '2017/02/12 23:59:59')]"
      ]
     },
     "execution_count": 8,
     "metadata": {},
     "output_type": "execute_result"
    }
   ],
   "source": [
    "dhcp_rdd.take(2)"
   ]
  },
  {
   "cell_type": "code",
   "execution_count": 9,
   "metadata": {
    "collapsed": true
   },
   "outputs": [],
   "source": [
    "def toCSVLine(data):\n",
    "  return ','.join(str(d) for d in data)"
   ]
  },
  {
   "cell_type": "code",
   "execution_count": 10,
   "metadata": {
    "collapsed": false
   },
   "outputs": [],
   "source": [
    "lines = dhcp_rdd.map(toCSVLine)\n",
    "lines.saveAsTextFile('data/hashed_mac_dhcp_lease_20170207_20170212_parsed.csv')"
   ]
  },
  {
   "cell_type": "code",
   "execution_count": 11,
   "metadata": {
    "collapsed": false
   },
   "outputs": [
    {
     "name": "stdout",
     "output_type": "stream",
     "text": [
      "hashed_mac_dhcp_lease_20170207_20170212.csv          README\r\n",
      "\u001b[0m\u001b[01;34mhashed_mac_dhcp_lease_20170207_20170212_parsed.csv\u001b[0m/\r\n"
     ]
    }
   ],
   "source": [
    "ls data"
   ]
  },
  {
   "cell_type": "code",
   "execution_count": null,
   "metadata": {
    "collapsed": true
   },
   "outputs": [],
   "source": []
  }
 ],
 "metadata": {
  "kernelspec": {
   "display_name": "Python 2",
   "language": "python",
   "name": "python2"
  },
  "language_info": {
   "codemirror_mode": {
    "name": "ipython",
    "version": 2
   },
   "file_extension": ".py",
   "mimetype": "text/x-python",
   "name": "python",
   "nbconvert_exporter": "python",
   "pygments_lexer": "ipython2",
   "version": "2.7.13"
  }
 },
 "nbformat": 4,
 "nbformat_minor": 2
}
