{
 "cells": [
  {
   "cell_type": "code",
   "execution_count": 82,
   "metadata": {
    "collapsed": true
   },
   "outputs": [],
   "source": [
    "from __future__ import division\n",
    "import numpy as np\n",
    "import os, sys\n",
    "import matplotlib\n",
    "#matplotlib.use('Agg')\n",
    "%matplotlib nbagg\n",
    "import matplotlib.pyplot as plt\n",
    "import pandas as pd\n",
    "from collections import defaultdict\n",
    "import csv\n"
   ]
  },
  {
   "cell_type": "code",
   "execution_count": 83,
   "metadata": {
    "collapsed": false
   },
   "outputs": [],
   "source": [
    "dhcp_data = []\n",
    "ctr = 0\n",
    "with open('data/hashed_mac_dhcp_lease_20170207_20170212.csv') as csvfile:\n",
    "    reader = csv.reader(csvfile)\n",
    "    for row in reader:\n",
    "        if ctr > 0:\n",
    "            dhcp_data.append([ctr]+row[1:])\n",
    "        ctr += 1"
   ]
  },
  {
   "cell_type": "code",
   "execution_count": 84,
   "metadata": {
    "collapsed": false
   },
   "outputs": [],
   "source": [
    "import datetime\n",
    "import time \n",
    "\n",
    "def get_timestamp(s):\n",
    "    dt = datetime.datetime.strptime(s, \"%Y/%m/%d %H:%M:%S\")\n",
    "    return time.mktime(dt.timetuple()) + (dt.microsecond / 1000000.0)\n",
    "    "
   ]
  },
  {
   "cell_type": "code",
   "execution_count": 85,
   "metadata": {
    "collapsed": false
   },
   "outputs": [],
   "source": [
    "dhcp_rdd = sc.parallelize(dhcp_data).map(lambda s: tuple(s[:12]+[get_timestamp(s[12]), get_timestamp(s[13])]+s[14:]))\n",
    "ip_2_mac = (dhcp_rdd\n",
    "            .map(lambda s: ((s[9], s[10])))\n",
    "            .groupByKey()\n",
    "            .map(lambda s: (s[0], set(s[1])))\n",
    "           )\n",
    "mac_2_ip = (dhcp_rdd\n",
    "            .map(lambda s: ((s[10], s[9])))\n",
    "            .groupByKey()\n",
    "            .map(lambda s: (s[0], set(s[1])))\n",
    "           )"
   ]
  },
  {
   "cell_type": "code",
   "execution_count": 86,
   "metadata": {
    "collapsed": false
   },
   "outputs": [
    {
     "name": "stdout",
     "output_type": "stream",
     "text": [
      "Total unique IP addresses: 6425\n",
      "Total unique MAC addresses: 6256\n",
      "Total IP addresses used by more than one mac 0\n",
      "Total Mac addresses using more than IP addresses 165\n"
     ]
    }
   ],
   "source": [
    "print \"Total unique IP addresses:\", dhcp_rdd.map(lambda s: s[9]).distinct().count()\n",
    "print \"Total unique MAC addresses:\", dhcp_rdd.map(lambda s: s[10]).distinct().count()\n",
    "print \"Total IP addresses used by more than one mac\", ip_2_mac.filter(lambda s: len(s[1])>1).count()\n",
    "print \"Total Mac addresses using more than IP addresses\", mac_2_ip.filter(lambda s: len(s[1])>1).count()"
   ]
  },
  {
   "cell_type": "code",
   "execution_count": 100,
   "metadata": {
    "collapsed": false
   },
   "outputs": [],
   "source": [
    "import pickle\n",
    "with open('data/mac_2_ip_dhcp.pickle', 'w') as f:\n",
    "    pickle.dump(mac_2_ip.collect(), f)"
   ]
  },
  {
   "cell_type": "code",
   "execution_count": 89,
   "metadata": {
    "collapsed": true
   },
   "outputs": [],
   "source": [
    "ip_2_mac_dict = dict((x,y) for x,y in ip_2_mac.collect())"
   ]
  },
  {
   "cell_type": "code",
   "execution_count": 102,
   "metadata": {
    "collapsed": false
   },
   "outputs": [
    {
     "name": "stdout",
     "output_type": "stream",
     "text": [
      "6425\n"
     ]
    }
   ],
   "source": [
    "print len(ip_2_mac_dict.keys())"
   ]
  },
  {
   "cell_type": "code",
   "execution_count": 98,
   "metadata": {
    "collapsed": false
   },
   "outputs": [
    {
     "name": "stdout",
     "output_type": "stream",
     "text": [
      "set(['C0:33:5E:28:F:61'])\n"
     ]
    }
   ],
   "source": [
    "print ip_2_mac_dict['10.9.225.184']"
   ]
  },
  {
   "cell_type": "code",
   "execution_count": 97,
   "metadata": {
    "collapsed": false
   },
   "outputs": [
    {
     "name": "stdout",
     "output_type": "stream",
     "text": [
      "set(['10.8.252.6'])\n"
     ]
    }
   ],
   "source": [
    "print mac_2_ip_dict['4C:66:41:F:F4:C7']"
   ]
  },
  {
   "cell_type": "code",
   "execution_count": 101,
   "metadata": {
    "collapsed": false
   },
   "outputs": [],
   "source": [
    "import pickle\n",
    "with open('data/ip_2_mac_dhcp.pickle', 'w') as f:\n",
    "    pickle.dump(ip_2_mac.collect(), f)"
   ]
  },
  {
   "cell_type": "code",
   "execution_count": 107,
   "metadata": {
    "collapsed": false
   },
   "outputs": [],
   "source": [
    "ip_2_mac_dict = {}\n",
    "for entry in ip_2_mac.collect():\n",
    "    ip_2_mac_dict[entry[0]] = entry[1:]"
   ]
  },
  {
   "cell_type": "code",
   "execution_count": 108,
   "metadata": {
    "collapsed": false
   },
   "outputs": [],
   "source": [
    "with open('data/ip_2_mac_dict.pickle', 'w') as f:\n",
    "    pickle.dump(ip_2_mac_dict, f)"
   ]
  },
  {
   "cell_type": "code",
   "execution_count": null,
   "metadata": {
    "collapsed": true
   },
   "outputs": [],
   "source": []
  }
 ],
 "metadata": {
  "kernelspec": {
   "display_name": "Python 2",
   "language": "python",
   "name": "python2"
  },
  "language_info": {
   "codemirror_mode": {
    "name": "ipython",
    "version": 2
   },
   "file_extension": ".py",
   "mimetype": "text/x-python",
   "name": "python",
   "nbconvert_exporter": "python",
   "pygments_lexer": "ipython2",
   "version": "2.7.13"
  }
 },
 "nbformat": 4,
 "nbformat_minor": 2
}
