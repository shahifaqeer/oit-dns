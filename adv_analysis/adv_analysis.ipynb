{
 "cells": [
  {
   "cell_type": "code",
   "execution_count": 1,
   "metadata": {
    "collapsed": true
   },
   "outputs": [],
   "source": [
    "from __future__ import print_function\n",
    "\n",
    "# $example on$\n",
    "from pyspark.ml.feature import StringIndexer\n",
    "from pyspark import SparkContext\n",
    "from pyspark.sql import SQLContext\n",
    "\n",
    "\n",
    "sql_sc = SQLContext(sc)"
   ]
  },
  {
   "cell_type": "code",
   "execution_count": 8,
   "metadata": {
    "collapsed": false
   },
   "outputs": [
    {
     "name": "stdout",
     "output_type": "stream",
     "text": [
      "[['101com.com'], ['101order.com'], ['123found.com'], ['140proof.com'], ['180hits.de']]\n"
     ]
    }
   ],
   "source": [
    "fname = '../data/simple_ad.txt'\n",
    "adv_data = []\n",
    "with open(fname, 'r') as f:\n",
    "    for line in f:\n",
    "        if not line.startswith('#'):\n",
    "            adv_data.append([line.split('\\n')[0]])\n",
    "adv_data = adv_data[1:]\n",
    "print(adv_data[:5])"
   ]
  },
  {
   "cell_type": "code",
   "execution_count": null,
   "metadata": {
    "collapsed": false
   },
   "outputs": [
    {
     "name": "stdout",
     "output_type": "stream",
     "text": [
      "Processing file ../data/tshark_20170207_20170212_consolidated/split_hour_00118_20170211215900.csv\n"
     ]
    }
   ],
   "source": [
    "# First start the analysis for a sample 1 hour data, we can easily expand this to multiple hours. \n",
    "fname = '/tigress/arpitg/dns_data/tshark_20170207_20170212_consolidated/split_hour_00118_20170211215900.csv'\n",
    "#fname = 'data/tshark_20170207_20170212_consolidated/split_hour_00118_20170211215900.csv'\n",
    "\n",
    "\n",
    "import glob\n",
    "dns_fnames = glob.glob(\"../data/tshark_20170207_20170212_consolidated/*.csv\")\n",
    "\n",
    "dns_data = []\n",
    "for dns_fname in dns_fnames[:24]:\n",
    "    print(\"Processing file\", dns_fname)\n",
    "    with open(fname, 'r') as f:\n",
    "        for line in f:\n",
    "            tmp = line.split('\\n')[0].split(',')\n",
    "            dns_data.append(tuple(tmp))"
   ]
  },
  {
   "cell_type": "code",
   "execution_count": null,
   "metadata": {
    "collapsed": false
   },
   "outputs": [],
   "source": [
    "print (dns_data[:2],len(dns_data))"
   ]
  },
  {
   "cell_type": "code",
   "execution_count": null,
   "metadata": {
    "collapsed": false
   },
   "outputs": [],
   "source": [
    "dns_data_df = sql_sc.createDataFrame(dns_data,[\"ts\", \"xx\", \"srcIP\", \"dstIP\", \"qname\", \"qtype\", \"macAddr\", \"subnet\", \n",
    "                                               \"host_type\", \"host_name\", \"system_type\", \"OS\", \"nic_manuf\"])"
   ]
  },
  {
   "cell_type": "code",
   "execution_count": null,
   "metadata": {
    "collapsed": false
   },
   "outputs": [],
   "source": [
    "adv_data_df = sql_sc.createDataFrame(adv_data,[\"qname\"])"
   ]
  },
  {
   "cell_type": "code",
   "execution_count": null,
   "metadata": {
    "collapsed": false
   },
   "outputs": [],
   "source": [
    "print(adv_data[:5])"
   ]
  },
  {
   "cell_type": "code",
   "execution_count": null,
   "metadata": {
    "collapsed": false
   },
   "outputs": [],
   "source": [
    "dns_data_joined = dns_data_df.join(adv_data_df, \"qname\", \"inner\")\n",
    "affected_devices = dns_data_joined.select(\"srcIP\").distinct()"
   ]
  },
  {
   "cell_type": "code",
   "execution_count": null,
   "metadata": {
    "collapsed": false
   },
   "outputs": [],
   "source": [
    "# Get fraction of DNS responses that were know advertisement links\n",
    "\n",
    "total_responses_for_affected_devices = (dns_data_df.join(affected_devices, \"srcIP\", \"inner\")\n",
    "                              .select([\"srcIP\", \"qname\"])\n",
    "                              .groupBy(\"srcIP\").count()\n",
    "                              .withColumnRenamed('count', 'total_count')\n",
    "                             )\n",
    "\n",
    "adv_responses_for_affected_devices = (dns_data_joined\n",
    "                                      .select([\"srcIP\", \"qname\"])\n",
    "                                      .groupBy(\"srcIP\")\n",
    "                                      .count()\n",
    "                                      .withColumnRenamed('count', 'adv_count')\n",
    "                                     )\n",
    "\n",
    "fraction_adv_responses_for_affected_devices = (total_responses_for_affected_devices\n",
    "                                               .join(adv_responses_for_affected_devices, \"srcIP\", \"outer\")\n",
    "                                               .rdd.map(lambda p: (p.srcIP, 100*float(p.adv_count)/p.total_count))\n",
    "                                               .toDF([\"srcIP\", \"percentage_adv\"])\n",
    "                                              )\n",
    "\n",
    "fraction_adv_responses_for_affected_devices.show()"
   ]
  },
  {
   "cell_type": "code",
   "execution_count": null,
   "metadata": {
    "collapsed": false
   },
   "outputs": [],
   "source": [
    "# 10.8.213.252: an IP with very high advertisement traffic\n"
   ]
  },
  {
   "cell_type": "code",
   "execution_count": null,
   "metadata": {
    "collapsed": false
   },
   "outputs": [],
   "source": [
    "print(dns_data_df.filter(dns_data_df[\"srcIP\"] == \"10.8.213.252\").select(\"ts\").rdd.map(lambda p: str(p.ts)).collect())"
   ]
  },
  {
   "cell_type": "code",
   "execution_count": null,
   "metadata": {
    "collapsed": true
   },
   "outputs": [],
   "source": []
  }
 ],
 "metadata": {
  "kernelspec": {
   "display_name": "Python 2",
   "language": "python",
   "name": "python2"
  },
  "language_info": {
   "codemirror_mode": {
    "name": "ipython",
    "version": 2
   },
   "file_extension": ".py",
   "mimetype": "text/x-python",
   "name": "python",
   "nbconvert_exporter": "python",
   "pygments_lexer": "ipython2",
   "version": "2.7.13"
  }
 },
 "nbformat": 4,
 "nbformat_minor": 2
}
